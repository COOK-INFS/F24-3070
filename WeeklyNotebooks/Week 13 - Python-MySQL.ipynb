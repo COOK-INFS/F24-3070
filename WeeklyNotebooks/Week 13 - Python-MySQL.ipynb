{
 "cells": [
  {
   "cell_type": "markdown",
   "metadata": {},
   "source": [
    "# Create database\n",
    "First we need to create a database so we can perform the CRUD operations using Python."
   ]
  },
  {
   "cell_type": "markdown",
   "metadata": {},
   "source": [
    "## Database specification and setup"
   ]
  },
  {
   "cell_type": "markdown",
   "metadata": {},
   "source": [
    "The database to use will be ‘infs3070’ and each student can create their own database table by either using PHPMyAdmin, or by using the SQL script from the command line. Name your database your username so it is easy to keep track of the various databases.\n",
    "\n",
    "We can use the previous username and password that was created:\n",
    "\n",
    "Username: infs3070\n",
    "Password: pydev\n",
    "\n",
    "Table design:\n",
    "\n",
    "|STUDENTS|\n",
    "|PK|Column Name|Data Type|\n",
    "|--|-----------|---------|\n",
    "|PK| studentID | int |\n",
    "|| lastName | varchar(45) |\n",
    "|| firstName | varchar (45) |\n",
    "|| email | varchar (45) |\n",
    "\n"
   ]
  },
  {
   "cell_type": "markdown",
   "metadata": {},
   "source": [
    "```\n",
    "CREATE TABLE `infs3070`.`rcook2` (\n",
    "    `studentID` INT NOT NULL AUTO_INCREMENT , \n",
    "    `lastName` VARCHAR(45) NOT NULL , \n",
    "    `firstName` VARCHAR(45) NOT NULL , \n",
    "    `email` VARCHAR(45) NOT NULL , \n",
    "    PRIMARY KEY (`studentID`));\n",
    "```"
   ]
  },
  {
   "cell_type": "markdown",
   "metadata": {},
   "source": [
    "# Connecting Python to the database"
   ]
  },
  {
   "cell_type": "markdown",
   "metadata": {},
   "source": [
    "## Connection options\n",
    "\n",
    "We have two primary options when connecting Python to a database. In both options we will utilize the mysql.connector library previously installed.\n",
    "\n",
    "If the mysql library is not installed or you are receiving errors that the library cannot be found it can be installed by:\n",
    "\n",
    "``` conda install -c anaconda mysql-connector-python ```\n",
    "\n",
    "or\n",
    "\n",
    "``` pip3 install mysql-connector-python ```"
   ]
  },
  {
   "cell_type": "markdown",
   "metadata": {},
   "source": [
    "### Option 1 -\n",
    "Provide connection details directly in the Python file that needs access."
   ]
  },
  {
   "cell_type": "code",
   "execution_count": null,
   "metadata": {},
   "outputs": [],
   "source": [
    "import mysql.connector\n",
    "\n",
    "\n",
    "def create_conn():\n",
    "    conn = mysql.connector.connect(\n",
    "        host=\"128.198.162.191\",\n",
    "        # host = \"localhost\",\n",
    "        # or \"localhost\" if working in XAMPP\n",
    "        user=\"infs3070\",\n",
    "        # user = os.environ.get('3070user'), \n",
    "        password=\"pydev\",\n",
    "        # password = os.environ.get('3070pass'),\n",
    "        database=\"infs3070\"\n",
    "    )\n",
    "    return conn"
   ]
  },
  {
   "cell_type": "markdown",
   "metadata": {},
   "source": [
    "### Option 2 - \n",
    "Calling a function in a separate file that contains the MySQL connection details. (This is my preferred method)"
   ]
  },
  {
   "cell_type": "markdown",
   "metadata": {},
   "source": [
    "Create a file to store your Python connection details in (e.g. dbConfig.py)\n",
    "\n"
   ]
  },
  {
   "cell_type": "code",
   "execution_count": null,
   "metadata": {},
   "outputs": [],
   "source": [
    "# dbConfig.py\n",
    "\n",
    "import mysql.connector\n",
    "\n",
    "\n",
    "def create_conn():\n",
    "    conn = mysql.connector.connect(\n",
    "        host=\"128.198.162.191\",\n",
    "        # or \"localhost\" if working in XAMPP\n",
    "        user=\"infs3070\",\n",
    "        # user = os.environ.get('3070user'), \n",
    "        password=\"pydev\",\n",
    "        # password = os.environ.get('3070pass'),\n",
    "        database=\"infs3070\"\n",
    "    )\n",
    "    return conn"
   ]
  },
  {
   "cell_type": "markdown",
   "metadata": {},
   "source": [
    "Once you have created the file you can call the function within your main program file."
   ]
  },
  {
   "cell_type": "code",
   "execution_count": null,
   "metadata": {},
   "outputs": [],
   "source": [
    "# This should be added to each function area.\n",
    "# Otherwise you have to run all of the functions.\n",
    "\n",
    "from dbConfig import create_conn"
   ]
  },
  {
   "cell_type": "markdown",
   "metadata": {},
   "source": [
    "## ```__name__ == “__main__”:```"
   ]
  },
  {
   "cell_type": "markdown",
   "metadata": {},
   "source": [
    "Python files are referred to as “modules”. A module can have functions, classes, and variables. When the Python interpreter runs a module, the `__name__` variable will be set as `__main__` if the module being run is the main program. But if the code is being run from another module, then the `__name__` variable will be set to that module’s (file) name.\n",
    "\n",
    "In Python, the if **name** == '**main**': block is a conditional statement that checks whether the current module (Python file) is being run as the main program or if it is being imported as a module into another program.\n",
    "\n",
    "Here's how it works:\n",
    "\n",
    "1. Every Python module has a special variable called **name**. When a module is executed as the main program, the **name** variable is set to the string '**main**'. However, if the module is being imported into another program, the **name** variable is set to the name of the module.\n",
    "2. The if **name** == '**main**': block allows you to specify code that should only be executed when the module is run as the main program. This block is typically placed at the end of the module, after all the function and class definitions.\n",
    "3. Any code inside the if **name** == '**main**': block will be executed only if the module is run directly as the main program. If the module is imported into another program, the code inside this block will be skipped.\n",
    "\n",
    "Specifying this variable allows us to control which module the Python  interpreter should consider the “main” module when there are multiple modules that are imported into other modules."
   ]
  },
  {
   "cell_type": "markdown",
   "metadata": {},
   "source": [
    "# Python connection and cursor objects:"
   ]
  },
  {
   "cell_type": "markdown",
   "metadata": {},
   "source": [
    "When we want to interact with a database using Python, it is common for us to use a connection object (`conn = create_conn()`) to create the connection to the database, and a cursor object (`cursor = conn.cursor()`) to interact with the database once connected.\n",
    "\n",
    "When we have finished using these connections we should close the connections to free up the system resources used by them. `cursor.close()` and `conn.close()` ."
   ]
  },
  {
   "cell_type": "markdown",
   "metadata": {},
   "source": [
    "# Selecting records from the database"
   ]
  },
  {
   "cell_type": "code",
   "execution_count": null,
   "metadata": {},
   "outputs": [],
   "source": [
    "from .dbConfig import create_conn\n",
    "\n",
    "# Create a function for fetching all student records\n",
    "def get_all_students():\n",
    "    conn = create_conn()\n",
    "    cursor = conn.cursor()\n",
    "\n",
    "    select_query = \"select email from students where studentID = 2;\"\n",
    "    cursor.execute(select_query)\n",
    "\n",
    "    results = cursor.fetchall()\n",
    "    print(\"All records from students: \")\n",
    "    for row in results:\n",
    "        print(row)\n",
    "\n",
    "    cursor.close()\n",
    "    conn.close()\n",
    "\n",
    "# Fetch all records\n",
    "if __name__ == \"__main__\":\n",
    "    get_all_students()"
   ]
  },
  {
   "cell_type": "markdown",
   "metadata": {},
   "source": [
    "# Adding records to the database"
   ]
  },
  {
   "cell_type": "markdown",
   "metadata": {},
   "source": [
    "In the code below the %s represents placeholder values. In this instance we are creating string type placeholder values. Generally we will use strings for placeholder as we don’t know what type of data we may be sent."
   ]
  },
  {
   "cell_type": "code",
   "execution_count": null,
   "metadata": {},
   "outputs": [],
   "source": [
    "from dbConfig import create_conn\n",
    "\n",
    "# Create a function for adding records\n",
    "def add_student(last_name, first_name, email):\n",
    "    conn = create_conn()\n",
    "    cursor = conn.cursor()\n",
    "\n",
    "    insert_query = \"insert into students (lastName, firstName, email) values (%s, %s, %s)\"\n",
    "    record = (last_name, first_name, email)\n",
    "\n",
    "    cursor.execute(insert_query, record)\n",
    "    conn.commit()\n",
    "\n",
    "    print(\"Student record added successfully!\")\n",
    "    cursor.close()\n",
    "    conn.close()\n",
    "\n",
    "    # Add the record\n",
    "if __name__ == \"__main__\":\n",
    "    last_name = \"Jingleheimer\"\n",
    "    first_name = \"JJ\"\n",
    "    email = \"jj@email.com\"\n",
    "\n",
    "    add_student(last_name, first_name, email)"
   ]
  },
  {
   "cell_type": "markdown",
   "metadata": {},
   "source": [
    "# Updating a record in the database"
   ]
  },
  {
   "cell_type": "code",
   "execution_count": null,
   "metadata": {},
   "outputs": [],
   "source": [
    "from dbConfig import create_conn\n",
    "\n",
    "# Create a function to update records\n",
    "def update_student(student_id, last_name, first_name, email):\n",
    "    conn = create_conn()\n",
    "    cursor = conn.cursor()\n",
    "\n",
    "    update_query = \"update students set lastName = %s, firstName = %s, email = %s where studentID = %s;\"\n",
    "\n",
    "    cursor.execute(update_query, (last_name, first_name, email, student_id))\n",
    "    conn.commit()\n",
    "\n",
    "    print(\"Student record updated successfully!\")\n",
    "    cursor.close()\n",
    "    conn.close()\n",
    "\n",
    "# Update the record with the information below\n",
    "student_id = 3\n",
    "updated_last_name = 'Smith'\n",
    "updated_first_name = 'John'\n",
    "upated_email = 'js@email.com'\n",
    "update_student(student_id, updated_last_name, updated_first_name, upated_email)"
   ]
  },
  {
   "cell_type": "markdown",
   "metadata": {},
   "source": [
    "# Deleting a record from the database"
   ]
  },
  {
   "cell_type": "code",
   "execution_count": null,
   "metadata": {},
   "outputs": [],
   "source": [
    "from dbConfig import create_conn\n",
    "\n",
    "# Create a function to delete records\n",
    "def delete_student(student_id):\n",
    "    conn = create_conn()\n",
    "    cursor = conn.cursor()\n",
    "\n",
    "    delete_query = \"delete from students where studentID = %s\"\n",
    "    cursor.execute(delete_query, (student_id,)) # The extra comma tricks Python into accepting the INT as a String.\n",
    "\n",
    "    conn.commit()\n",
    "\n",
    "    # Add some logic to verify that records exist\n",
    "    if cursor.rowcount >0:\n",
    "        print(\"Student record deleted successfully!\")\n",
    "    else:\n",
    "        print(\"No record round with the given student ID.\")\n",
    "    \n",
    "    cursor.close()\n",
    "    conn.close()\n",
    "\n",
    "# Record to delete\n",
    "student_id = 1\n",
    "delete_student(student_id)"
   ]
  },
  {
   "cell_type": "markdown",
   "metadata": {},
   "source": [
    "# Connecting to Company database\n"
   ]
  },
  {
   "cell_type": "markdown",
   "metadata": {},
   "source": [
    "### Lambda function\n",
    "To call the database connection we will be using a special function called a lambda function. \n",
    "\n",
    "In Python, a lambda function is a small, anonymous function defined using the keyword `lambda`.  Lambda functions can have any number of arguments but only one expression, which is evaluated and returned. They are particularly useful when you need a simple function for a short period and do not want to formally define it using the `def` keyword. The general syntax of a lambda function is: `lambda *arguments*: *expression*`\n",
    "\n",
    "A lambda function plays a crucial role in integrating the database connection established by your custom function with SQLAlchemy's `create_engine` function. \n",
    "\n",
    "This is a simple function that takes no arguments and returns the `conn` object. Here’s what it specifically does in the context of creating the SQLAlchemy engine:\n",
    "\n",
    "1. **Connection Creator**: The `creator` parameter in the `create_engine` function expects a callable that returns a new connection object to the database. The lambda function satisfies this requirement by returning the `conn` object that was established and returned by your `create_conn()` function.\n",
    "2. **On-Demand Connection**: Every time SQLAlchemy needs to connect to the database, it calls this lambda function to get a fresh connection object. This approach ensures that the connection handling is dynamic and managed efficiently, without the need to manually open and close connections or hardcode credentials directly in the script.\n",
    "\n",
    "### Why Use a Lambda Function?\n",
    "\n",
    "Using a lambda function here is beneficial for several reasons:\n",
    "\n",
    "- **Simplicity**: It allows you to provide a concise and straightforward way to return an existing object without creating a separate, named function, keeping the code cleaner and more readable.\n",
    "- **Encapsulation**: It keeps the connection details encapsulated within the `companyConnect.py` module. The main script does not need to know how the connection is made; it just needs to know how to get the connection.\n",
    "- **Flexibility**: If in the future you decide to change how your connections are managed (e.g., adding pooling or logging), you only need to modify the `create_conn` function. The lambda function will continue to work without any changes needed in the main script.\n",
    "\n",
    "The lambda function acts as a bridge that allows SQLAlchemy to use the connection object provided by the database connection setup. This is a neat and effective way to integrate custom database connections with SQLAlchemy."
   ]
  },
  {
   "cell_type": "markdown",
   "metadata": {},
   "source": [
    "## Select data from the database"
   ]
  },
  {
   "cell_type": "code",
   "execution_count": null,
   "metadata": {},
   "outputs": [],
   "source": [
    "from companyConnect import create_conn\n",
    "from sqlalchemy import create_engine, text # \"Text\" is only included with the newest call\n",
    "import pandas as pd\n",
    "\n",
    "conn = create_conn()\n",
    "\n",
    "# create a connection to the database\n",
    "# We are going to use a formatted string to connect using the lambda function\n",
    "engine = create_engine(\"mysql+mysqlconnector://\", creator=lambda: conn)\n",
    "\n",
    "# Set a custom display format for floats\n",
    "pd.options.display.float_format = '{:,.2f}'.format\n",
    "\n",
    "# Select records\n",
    "sql_query = \"select Store, Weekly_Sales from sales where Store = 1;\"\n",
    "\n",
    "sql = text(sql_query)\n",
    "\n",
    "# Execute the query and return the results into a Pandas dataframe\n",
    "sales_df = pd.read_sql_query(sql, engine)\n",
    "\n",
    "# Print the results\n",
    "print(sales_df)"
   ]
  }
 ],
 "metadata": {
  "kernelspec": {
   "display_name": "Python 3",
   "language": "python",
   "name": "python3"
  },
  "language_info": {
   "name": "python",
   "version": "3.13.0"
  }
 },
 "nbformat": 4,
 "nbformat_minor": 2
}
