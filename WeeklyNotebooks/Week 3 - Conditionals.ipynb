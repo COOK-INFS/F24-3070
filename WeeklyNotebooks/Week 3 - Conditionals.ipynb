{
 "cells": [
  {
   "cell_type": "markdown",
   "id": "ff4b1ca7-ba2e-4e64-8666-0e053aa2c66e",
   "metadata": {},
   "source": [
    "# Example of user input"
   ]
  },
  {
   "cell_type": "code",
   "execution_count": 4,
   "id": "6aa2af76-a245-4586-8272-b7e8119ed2de",
   "metadata": {},
   "outputs": [
    {
     "name": "stdin",
     "output_type": "stream",
     "text": [
      "What is your name? Bob\n",
      "What year were you born? 1969\n"
     ]
    },
    {
     "name": "stdout",
     "output_type": "stream",
     "text": [
      "Hello Bob\n",
      "You are 55 years old.\n"
     ]
    }
   ],
   "source": [
    "userName = input(\"What is your name?\")\n",
    "userAge = int(input(\"What year were you born?\")) # Must cast to an INT as all input comes in as strings.\n",
    "\n",
    "age = 2024 - userAge\n",
    "\n",
    "print(\"Hello \" + userName)\n",
    "print(\"You are \" +str(age)+ \" years old.\") # Casting to a string as it was an INT"
   ]
  },
  {
   "cell_type": "markdown",
   "id": "e51a0792-16fd-4059-8a11-f790275c9e28",
   "metadata": {},
   "source": [
    "# IF statement examples\n",
    "Remember that we are looking for a expression that resolves to TRUE to execute our code."
   ]
  },
  {
   "cell_type": "code",
   "execution_count": 8,
   "id": "229a52f6-60ad-4a4f-af30-9deefbf2e9bc",
   "metadata": {},
   "outputs": [
    {
     "name": "stdin",
     "output_type": "stream",
     "text": [
      "What is your name? bob\n",
      "What year were you born? 1969\n"
     ]
    },
    {
     "name": "stdout",
     "output_type": "stream",
     "text": [
      "Hello bob\n",
      "You are 55 years old.\n",
      "Welcome to the bar, enjoy your cold snack.\n",
      "Hello Bob\n",
      "No fun for you.\n"
     ]
    }
   ],
   "source": [
    "userName = input(\"What is your name?\")\n",
    "userAge = int(input(\"What year were you born?\")) # Must cast to an INT as all input comes in as strings.\n",
    "\n",
    "age = 2024 - userAge\n",
    "\n",
    "print(\"Hello \" + userName)\n",
    "print(\"You are \" +str(age)+ \" years old.\") # Casting to a string as it was an INT\n",
    "\n",
    "# IF statement example\n",
    "if age >= 21: # This is the expression I want tested for TRUE.\n",
    "    print(\"Welcome to the bar, enjoy your cold snack.\")\n",
    "\n",
    "print(\"Hello Bob\")\n",
    "print(\"No fun for you.\")"
   ]
  },
  {
   "cell_type": "markdown",
   "id": "81a096ab-0ff9-446a-a0fc-2cea03f5c051",
   "metadata": {},
   "source": [
    "# Two-way IF statements"
   ]
  },
  {
   "cell_type": "code",
   "execution_count": 10,
   "id": "28af279e-eaff-460c-b248-3416484c7d51",
   "metadata": {},
   "outputs": [
    {
     "name": "stdin",
     "output_type": "stream",
     "text": [
      "What is your name? Bob\n",
      "What year were you born? 2010\n"
     ]
    },
    {
     "name": "stdout",
     "output_type": "stream",
     "text": [
      "Hello Bob\n",
      "You are 14 years old.\n",
      "Sorry, no cold snack for you!\n"
     ]
    }
   ],
   "source": [
    "userName = input(\"What is your name?\")\n",
    "userAge = int(input(\"What year were you born?\")) # Must cast to an INT as all input comes in as strings.\n",
    "\n",
    "age = 2024 - userAge\n",
    "\n",
    "print(\"Hello \" + userName)\n",
    "print(\"You are \" +str(age)+ \" years old.\") # Casting to a string as it was an INT\n",
    "\n",
    "# Example of Two-Way IF\n",
    "if age >= 21:\n",
    "    print(\"Welcome, enjoy your cold snack.\")\n",
    "else:\n",
    "    print(\"Sorry, no cold snack for you!\")"
   ]
  },
  {
   "cell_type": "markdown",
   "id": "855d208c-1411-435a-b73a-27818286c40d",
   "metadata": {},
   "source": [
    "# Ternary expressions example\n",
    "These act just like IF statements, just the syntax is different."
   ]
  },
  {
   "cell_type": "code",
   "execution_count": 12,
   "id": "68cc0779-7cab-4692-9032-dbff01cc1ba8",
   "metadata": {},
   "outputs": [
    {
     "name": "stdin",
     "output_type": "stream",
     "text": [
      "What is your name? Bob\n",
      "What year were you born? 2010\n"
     ]
    },
    {
     "name": "stdout",
     "output_type": "stream",
     "text": [
      "Hello Bob\n",
      "You are 14 years old.\n",
      "You cannot enter the bar\n"
     ]
    }
   ],
   "source": [
    "userName = input(\"What is your name?\")\n",
    "userAge = int(input(\"What year were you born?\")) # Must cast to an INT as all input comes in as strings.\n",
    "\n",
    "age = 2024 - userAge\n",
    "\n",
    "print(\"Hello \" + userName)\n",
    "print(\"You are \" +str(age)+ \" years old.\") # Casting to a string as it was an INT\n",
    "\n",
    "# Ternary expression example\n",
    "canEnter = \"You can enter the bar\" if age >= 21 else \"You cannot enter the bar\"\n",
    "print(canEnter)"
   ]
  },
  {
   "cell_type": "markdown",
   "id": "9cccb664-9221-4e38-ba35-3dd9a001f525",
   "metadata": {},
   "source": [
    "# Nested IF statements\n",
    "These are IF statements that are nested within other IF statements"
   ]
  },
  {
   "cell_type": "code",
   "execution_count": 15,
   "id": "65cc2f4b-1a2d-400e-b6e1-81aa1c15a423",
   "metadata": {},
   "outputs": [
    {
     "name": "stdin",
     "output_type": "stream",
     "text": [
      "What is your name? bob\n",
      "What year were you born? 2005\n"
     ]
    },
    {
     "name": "stdout",
     "output_type": "stream",
     "text": [
      "Hello bob\n",
      "You are 19 years old.\n",
      "You can enlist in the service.\n"
     ]
    }
   ],
   "source": [
    "userName = input(\"What is your name?\")\n",
    "userAge = int(input(\"What year were you born?\")) # Must cast to an INT as all input comes in as strings.\n",
    "\n",
    "age = 2024 - userAge\n",
    "\n",
    "print(\"Hello \" + userName)\n",
    "print(\"You are \" +str(age)+ \" years old.\") # Casting to a string as it was an INT\n",
    "\n",
    "# Nested IF example\n",
    "if age >= 18:\n",
    "    if age < 25:\n",
    "        print(\"You can enlist in the service.\")\n",
    "    else:\n",
    "        print(\"You are too old to enlist.\")\n",
    "else:\n",
    "    print(\"You are not eligible to enlist.\")\n",
    "        "
   ]
  },
  {
   "cell_type": "markdown",
   "id": "65a9f6a7-4136-4c64-93f1-ca113a047a82",
   "metadata": {},
   "source": [
    "# ELIF statements examples\n",
    "These statements act like Nested IF statements, but allow a cleaner way to test multiple expressions."
   ]
  },
  {
   "cell_type": "code",
   "execution_count": 20,
   "id": "5b835f4e-4853-4f38-86cd-736e49326826",
   "metadata": {},
   "outputs": [
    {
     "name": "stdin",
     "output_type": "stream",
     "text": [
      "What is your name? bob\n",
      "What year were you born? 2008\n"
     ]
    },
    {
     "name": "stdout",
     "output_type": "stream",
     "text": [
      "Hello bob\n",
      "You are 16 years old.\n",
      "You are eligible for permit\n"
     ]
    }
   ],
   "source": [
    "userName = input(\"What is your name?\")\n",
    "userAge = int(input(\"What year were you born?\")) # Must cast to an INT as all input comes in as strings.\n",
    "\n",
    "age = 2024 - userAge\n",
    "\n",
    "print(\"Hello \" + userName)\n",
    "print(\"You are \" +str(age)+ \" years old.\") # Casting to a string as it was an INT\n",
    "\n",
    "# ELIF example\n",
    "if age < 15:\n",
    "    print(\"You are too young to drive.\")\n",
    "elif age >= 15 and age <= 16:\n",
    "    print(\"You are eligible for permit\")\n",
    "elif age >16:\n",
    "    print(\"You are eligible for a drivers license.\")\n",
    "#elif age > 25 and age <= 60:\n",
    "   # print(\"You may be eligible for insurance discounts.\")\n",
    "else:\n",
    "    print(\"Finished\")"
   ]
  },
  {
   "cell_type": "markdown",
   "id": "fe356737-3148-4fde-a339-e750e60d0ba8",
   "metadata": {},
   "source": [
    "# Case match statement examples\n",
    "These act very much like ELIF statements\n"
   ]
  },
  {
   "cell_type": "code",
   "execution_count": 22,
   "id": "3011cee0-43a7-42ae-b23a-c695dade6b1a",
   "metadata": {},
   "outputs": [
    {
     "name": "stdin",
     "output_type": "stream",
     "text": [
      "What day number (0 to 6) would you like to show? 11\n"
     ]
    },
    {
     "name": "stdout",
     "output_type": "stream",
     "text": [
      "Invalid Day\n"
     ]
    }
   ],
   "source": [
    "dayToView = int(input(\"What day number (0 to 6) would you like to show?\"))\n",
    "\n",
    "day = dayToView\n",
    "day_of_week = \"\"\n",
    "\n",
    "if day == 0:\n",
    "    day_of_week = \"Sunday\"\n",
    "elif day == 1:\n",
    "    day_of_week = \"Monday\"\n",
    "elif day == 2:\n",
    "    day_of_week = \"Tuesday\"\n",
    "elif day == 3:\n",
    "    day_of_week = \"Wednesday\"\n",
    "elif day == 4:\n",
    "    day_of_week = \"Thursday\"\n",
    "elif day == 5:\n",
    "    day_of_week = \"Friday\"\n",
    "elif day == 6:\n",
    "    day_of_week = \"Saturday\"\n",
    "else:\n",
    "    day_of_week = \"Invalid Day\"\n",
    "\n",
    "print(day_of_week)"
   ]
  },
  {
   "cell_type": "markdown",
   "id": "bb870c1c-ad8d-4b52-a479-8e94b1e945d3",
   "metadata": {},
   "source": [
    "## Shortcut version of cases"
   ]
  },
  {
   "cell_type": "code",
   "execution_count": 23,
   "id": "68ff7e4a-add5-49dc-9827-497f2ee70510",
   "metadata": {},
   "outputs": [
    {
     "name": "stdin",
     "output_type": "stream",
     "text": [
      "What day number (0 to 6) would you like to show? 2\n"
     ]
    },
    {
     "name": "stdout",
     "output_type": "stream",
     "text": [
      "Tuesday\n"
     ]
    }
   ],
   "source": [
    "dayToView = int(input(\"What day number (0 to 6) would you like to show?\"))\n",
    "\n",
    "day = dayToView\n",
    "day_of_week = \"\"\n",
    "\n",
    "case = {\n",
    "    0: \"Sunday\",\n",
    "    1: \"Monday\",\n",
    "    2: \"Tuesday\",\n",
    "    3: \"Wednesday\",\n",
    "    4: \"Thursday\",\n",
    "    5: \"Friday\",\n",
    "    6: \"Saturday\"\n",
    "}\n",
    "\n",
    "day_of_week = case.get(day, \"Invalid day\")\n",
    "print(day_of_week)\n",
    "    "
   ]
  },
  {
   "cell_type": "markdown",
   "id": "bf17423c-4cb0-42fc-85a8-e992889b9a7e",
   "metadata": {},
   "source": [
    "# ATM simulator"
   ]
  },
  {
   "cell_type": "code",
   "execution_count": 25,
   "id": "bfb082cf-887e-4ce0-8fae-26f9a00f1e98",
   "metadata": {},
   "outputs": [
    {
     "name": "stdout",
     "output_type": "stream",
     "text": [
      "Welcome to the ATM simulator\n",
      "1. Check Balance\n",
      "2. Withdraw\n",
      "3. Deposit\n",
      "4. Exit\n"
     ]
    },
    {
     "name": "stdin",
     "output_type": "stream",
     "text": [
      "Enter your choice:  1\n"
     ]
    },
    {
     "name": "stdout",
     "output_type": "stream",
     "text": [
      "Your current balance is $1000\n",
      "Welcome to the ATM simulator\n",
      "1. Check Balance\n",
      "2. Withdraw\n",
      "3. Deposit\n",
      "4. Exit\n"
     ]
    },
    {
     "name": "stdin",
     "output_type": "stream",
     "text": [
      "Enter your choice:  2\n",
      "Enter the amount to withdraw:  1100\n"
     ]
    },
    {
     "name": "stdout",
     "output_type": "stream",
     "text": [
      "Insufficient funds!\n",
      "Welcome to the ATM simulator\n",
      "1. Check Balance\n",
      "2. Withdraw\n",
      "3. Deposit\n",
      "4. Exit\n"
     ]
    },
    {
     "name": "stdin",
     "output_type": "stream",
     "text": [
      "Enter your choice:  2\n",
      "Enter the amount to withdraw:  -100\n"
     ]
    },
    {
     "name": "stdout",
     "output_type": "stream",
     "text": [
      "Invalid amount\n",
      "Welcome to the ATM simulator\n",
      "1. Check Balance\n",
      "2. Withdraw\n",
      "3. Deposit\n",
      "4. Exit\n"
     ]
    },
    {
     "name": "stdin",
     "output_type": "stream",
     "text": [
      "Enter your choice:  2\n",
      "Enter the amount to withdraw:  100\n"
     ]
    },
    {
     "name": "stdout",
     "output_type": "stream",
     "text": [
      "$100 withdrawn successfully.\n",
      "Your current balance is $900\n",
      "Welcome to the ATM simulator\n",
      "1. Check Balance\n",
      "2. Withdraw\n",
      "3. Deposit\n",
      "4. Exit\n"
     ]
    },
    {
     "name": "stdin",
     "output_type": "stream",
     "text": [
      "Enter your choice:  1\n"
     ]
    },
    {
     "name": "stdout",
     "output_type": "stream",
     "text": [
      "Your current balance is $900\n",
      "Welcome to the ATM simulator\n",
      "1. Check Balance\n",
      "2. Withdraw\n",
      "3. Deposit\n",
      "4. Exit\n"
     ]
    },
    {
     "name": "stdin",
     "output_type": "stream",
     "text": [
      "Enter your choice:  3\n",
      "Enter the amount to deposit:  -10\n"
     ]
    },
    {
     "name": "stdout",
     "output_type": "stream",
     "text": [
      "Invalid amount\n",
      "Welcome to the ATM simulator\n",
      "1. Check Balance\n",
      "2. Withdraw\n",
      "3. Deposit\n",
      "4. Exit\n"
     ]
    },
    {
     "name": "stdin",
     "output_type": "stream",
     "text": [
      "Enter your choice:  3\n",
      "Enter the amount to deposit:  600\n"
     ]
    },
    {
     "name": "stdout",
     "output_type": "stream",
     "text": [
      "$600 deposited successfully.\n",
      "Your current balance is $1500\n",
      "Welcome to the ATM simulator\n",
      "1. Check Balance\n",
      "2. Withdraw\n",
      "3. Deposit\n",
      "4. Exit\n"
     ]
    },
    {
     "name": "stdin",
     "output_type": "stream",
     "text": [
      "Enter your choice:  1\n"
     ]
    },
    {
     "name": "stdout",
     "output_type": "stream",
     "text": [
      "Your current balance is $1500\n",
      "Welcome to the ATM simulator\n",
      "1. Check Balance\n",
      "2. Withdraw\n",
      "3. Deposit\n",
      "4. Exit\n"
     ]
    },
    {
     "name": "stdin",
     "output_type": "stream",
     "text": [
      "Enter your choice:  2\n",
      "Enter the amount to withdraw:  100\n"
     ]
    },
    {
     "name": "stdout",
     "output_type": "stream",
     "text": [
      "$100 withdrawn successfully.\n",
      "Your current balance is $1400\n",
      "Welcome to the ATM simulator\n",
      "1. Check Balance\n",
      "2. Withdraw\n",
      "3. Deposit\n",
      "4. Exit\n"
     ]
    },
    {
     "name": "stdin",
     "output_type": "stream",
     "text": [
      "Enter your choice:  4\n"
     ]
    },
    {
     "name": "stdout",
     "output_type": "stream",
     "text": [
      "Thank you for using the ATM simulator. Good bye!\n"
     ]
    }
   ],
   "source": [
    "# Initialize an account balance\n",
    "balance = 1000\n",
    "\n",
    "while True:\n",
    "    print(\"Welcome to the ATM simulator\")\n",
    "    print(\"1. Check Balance\")\n",
    "    print(\"2. Withdraw\")\n",
    "    print(\"3. Deposit\")\n",
    "    print(\"4. Exit\")\n",
    "\n",
    "    choice = int(input(\"Enter your choice: \"))\n",
    "    if choice ==1:\n",
    "        print(\"Your current balance is $\" + str(balance))\n",
    "    elif choice == 2:\n",
    "        amount = int(input(\"Enter the amount to withdraw: \"))\n",
    "        if amount > balance:\n",
    "            print(\"Insufficient funds!\")\n",
    "        elif amount <= 0:\n",
    "            print(\"Invalid amount\")\n",
    "        else:\n",
    "            balance -= amount\n",
    "            print(\"$\" + str(amount) + \" withdrawn successfully.\")\n",
    "            print(\"Your current balance is $\" + str(balance))\n",
    "    elif choice == 3:\n",
    "        amount = int(input(\"Enter the amount to deposit: \"))\n",
    "        if amount <= 0:\n",
    "            print(\"Invalid amount\")\n",
    "        else:\n",
    "            balance += amount\n",
    "            print(\"$\" + str(amount) + \" deposited successfully.\")\n",
    "            print(\"Your current balance is $\" + str(balance))\n",
    "    elif choice == 4:\n",
    "        print (\"Thank you for using the ATM simulator. Good bye!\")\n",
    "        break\n",
    "    else:\n",
    "        print(\"Invalid choice. Please try again.\")"
   ]
  },
  {
   "cell_type": "code",
   "execution_count": null,
   "id": "dd0362ae-bfe9-43eb-aa5f-db972ce2c060",
   "metadata": {},
   "outputs": [],
   "source": []
  }
 ],
 "metadata": {
  "kernelspec": {
   "display_name": "Python 3 (ipykernel)",
   "language": "python",
   "name": "python3"
  },
  "language_info": {
   "codemirror_mode": {
    "name": "ipython",
    "version": 3
   },
   "file_extension": ".py",
   "mimetype": "text/x-python",
   "name": "python",
   "nbconvert_exporter": "python",
   "pygments_lexer": "ipython3",
   "version": "3.12.3"
  }
 },
 "nbformat": 4,
 "nbformat_minor": 5
}
