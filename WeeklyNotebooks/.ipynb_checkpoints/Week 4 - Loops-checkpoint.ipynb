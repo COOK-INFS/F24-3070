{
 "cells": [
  {
   "cell_type": "markdown",
   "id": "dcd91f7d-2e19-450c-ba78-7d03d92f2382",
   "metadata": {},
   "source": [
    "# While loop examples"
   ]
  },
  {
   "cell_type": "code",
   "execution_count": 7,
   "id": "a0b5dc8e-9476-464b-987d-fadd957bd0e4",
   "metadata": {},
   "outputs": [
    {
     "name": "stdout",
     "output_type": "stream",
     "text": [
      "1\n",
      "2\n",
      "3\n",
      "4\n",
      "5\n",
      "6\n",
      "7\n",
      "8\n",
      "9\n",
      "10\n",
      "All done\n"
     ]
    }
   ],
   "source": [
    "x = 1\n",
    "\n",
    "# While loop\n",
    "while x < 11:\n",
    "    print(x)\n",
    "    x += 1\n",
    "\n",
    "print(\"All done\")"
   ]
  },
  {
   "cell_type": "markdown",
   "id": "70862078-4325-4e38-9468-ae7f93f22a93",
   "metadata": {},
   "source": [
    "## BREAK word example"
   ]
  },
  {
   "cell_type": "code",
   "execution_count": 8,
   "id": "30f03f96-4898-409d-bc98-4fe2481e2909",
   "metadata": {},
   "outputs": [
    {
     "name": "stdout",
     "output_type": "stream",
     "text": [
      "1\n",
      "2\n",
      "3\n",
      "4\n",
      "5\n"
     ]
    }
   ],
   "source": [
    "x = 1\n",
    "while x < 11:\n",
    "    print(x)\n",
    "    if x == 5: # Nested IF statement to demonstrate the BREAK keyword.\n",
    "        break\n",
    "    x += 1"
   ]
  },
  {
   "cell_type": "markdown",
   "id": "d3ba3f12-2998-4efe-bc46-3069c2d34029",
   "metadata": {},
   "source": [
    "# CONTINUE keyword (reserved) example"
   ]
  },
  {
   "cell_type": "code",
   "execution_count": 9,
   "id": "400dbcdc-4572-4ce2-adfb-3826c366ff56",
   "metadata": {},
   "outputs": [
    {
     "name": "stdout",
     "output_type": "stream",
     "text": [
      "2\n",
      "3\n",
      "4\n",
      "6\n",
      "7\n",
      "8\n",
      "9\n",
      "10\n",
      "11\n"
     ]
    }
   ],
   "source": [
    "x = 1\n",
    "while x < 11:\n",
    "    x += 1\n",
    "    if x == 5:\n",
    "        continue\n",
    "    print(x)"
   ]
  },
  {
   "cell_type": "markdown",
   "id": "7d77213e-735f-48e8-9d66-25a413589c78",
   "metadata": {},
   "source": [
    "## Payroll example"
   ]
  },
  {
   "cell_type": "code",
   "execution_count": 12,
   "id": "072c52b1-a3fb-4e80-aaa1-7f5231c7c927",
   "metadata": {},
   "outputs": [
    {
     "name": "stdin",
     "output_type": "stream",
     "text": [
      "Enter the number of hours worked. blinky\n"
     ]
    },
    {
     "name": "stdout",
     "output_type": "stream",
     "text": [
      "You worked blinky hours this week.\n"
     ]
    }
   ],
   "source": [
    "hoursWorked = input(\"Enter the number of hours worked.\")\n",
    "\n",
    "while hoursWorked == \"\":\n",
    "    print(\"You did not enter your hours.\")\n",
    "    hoursWorked = input(\"Please enter your hours.\")\n",
    "else:\n",
    "    print(f\"You worked {hoursWorked} hours this week.\")"
   ]
  },
  {
   "cell_type": "markdown",
   "id": "590a2985-8ee8-4c5d-aef9-b44b21425680",
   "metadata": {},
   "source": [
    "# FOR loop example\n",
    "For loops are used for iterating over a sequence, which could be a list, tuple, dictionary, etc.\n",
    "\n",
    "Range Function: Often used with for loops to specify the number of iterations. The **range()** function generates a sequence of numbers, which you can loop through. For instance, for i in **range(5)**: will iterate 5 times."
   ]
  },
  {
   "cell_type": "code",
   "execution_count": 14,
   "id": "a85bb0cb-59d7-4209-8bbf-9b42733dab65",
   "metadata": {},
   "outputs": [
    {
     "name": "stdout",
     "output_type": "stream",
     "text": [
      "1\n",
      "4\n",
      "9\n",
      "16\n",
      "25\n"
     ]
    }
   ],
   "source": [
    "# In this case the 'i' is the counter to be used in the loop.\n",
    "# Remember that the range keyword uses an index, not the specific numbers!!!\n",
    "\n",
    "# Remember indexing is from 0. \n",
    "# Numbers 0, 1, 2, 3, 4, 5\n",
    "\n",
    "for i in range(1, 6): # The second number in this range is exclusive.\n",
    "    print(i * i)"
   ]
  },
  {
   "cell_type": "code",
   "execution_count": 17,
   "id": "44b8d658-176d-4f8e-9c17-9c32bc59c4f3",
   "metadata": {},
   "outputs": [
    {
     "name": "stdout",
     "output_type": "stream",
     "text": [
      "1\n",
      "2\n",
      "3\n",
      "4\n",
      "5\n",
      "6\n",
      "7\n",
      "8\n",
      "9\n",
      "10\n",
      "Happy Birthday!\n"
     ]
    }
   ],
   "source": [
    "for index in range(1, 11):\n",
    "    print(index)\n",
    "print(\"Happy Birthday!\")"
   ]
  },
  {
   "cell_type": "code",
   "execution_count": 18,
   "id": "4745b470-84f4-45fd-bac0-df9e9c072447",
   "metadata": {},
   "outputs": [
    {
     "name": "stdout",
     "output_type": "stream",
     "text": [
      "10\n",
      "9\n",
      "8\n",
      "7\n",
      "6\n",
      "5\n",
      "4\n",
      "3\n",
      "2\n",
      "1\n",
      "Kabbom!\n"
     ]
    }
   ],
   "source": [
    "# Countdown example\n",
    "for index in reversed(range(1, 11)):\n",
    "    print(index)\n",
    "print(\"Kabbom!\")"
   ]
  },
  {
   "cell_type": "code",
   "execution_count": 19,
   "id": "07e3a2cc-7d7c-4038-af72-cfc6f6ed241d",
   "metadata": {},
   "outputs": [
    {
     "name": "stdout",
     "output_type": "stream",
     "text": [
      "1\n",
      "2\n",
      "3\n",
      "4\n",
      "5\n"
     ]
    }
   ],
   "source": [
    "# Count by specific intervals\n",
    "numbers = [1, 2, 3, 4, 5]\n",
    "\n",
    "for index in numbers:\n",
    "    print(index)"
   ]
  },
  {
   "cell_type": "markdown",
   "id": "642c32d6-7f57-4936-abd9-7254ecde851d",
   "metadata": {},
   "source": [
    "## Looping to find a value"
   ]
  },
  {
   "cell_type": "code",
   "execution_count": 24,
   "id": "74b30aef-8096-419d-9a36-fbbe4cbfbffc",
   "metadata": {},
   "outputs": [
    {
     "name": "stdin",
     "output_type": "stream",
     "text": [
      "What number are you searching for? 7\n"
     ]
    },
    {
     "name": "stdout",
     "output_type": "stream",
     "text": [
      "1\n",
      "2\n",
      "3\n",
      "4\n",
      "5\n",
      "6\n",
      "Number 7 found, stopping the loop.\n"
     ]
    }
   ],
   "source": [
    "searchParameter = int(input(\"What number are you searching for?\"))\n",
    "\n",
    "numbers = [1, 2, 3, 4, 5, 6, 7, 8, 9, 10]\n",
    "\n",
    "for number in numbers:\n",
    "    if number == searchParameter:\n",
    "        print(f\"Number {searchParameter} found, stopping the loop.\")\n",
    "        break\n",
    "    print(number)"
   ]
  },
  {
   "cell_type": "markdown",
   "id": "97415ad6-1b54-42bd-9dfc-496766f7b5ce",
   "metadata": {},
   "source": [
    "## Nested loop example"
   ]
  },
  {
   "cell_type": "code",
   "execution_count": 25,
   "id": "975396d1-d62c-42d6-b914-118e5eec8b11",
   "metadata": {},
   "outputs": [
    {
     "name": "stdout",
     "output_type": "stream",
     "text": [
      "1\n",
      "2\n",
      "3\n",
      "4\n",
      "5\n",
      "6\n",
      "7\n",
      "8\n",
      "9\n"
     ]
    }
   ],
   "source": [
    "matrix = [[1, 2, 3], [4, 5, 6], [7, 8, 9]]\n",
    "\n",
    "for row in matrix:\n",
    "    for element in row:\n",
    "        print(element)"
   ]
  },
  {
   "cell_type": "markdown",
   "id": "87d09bc1-aae5-4e2d-9954-39f5014570e5",
   "metadata": {},
   "source": [
    "# List example"
   ]
  },
  {
   "cell_type": "code",
   "execution_count": 31,
   "id": "4b99ec08-7fb0-4531-87e9-c03490f8ac89",
   "metadata": {},
   "outputs": [
    {
     "name": "stdout",
     "output_type": "stream",
     "text": [
      "['Jeep', 'Ram', 'Motorcycle']\n"
     ]
    }
   ],
   "source": [
    "vehicles = [\"F350\", \"Jeep\", \"Ram\", \"Motorcycle\"]\n",
    "\n",
    "print(vehicles[1:4])"
   ]
  },
  {
   "cell_type": "code",
   "execution_count": 29,
   "id": "76d9181b-9130-4edf-a0d1-d0d7bb6a3950",
   "metadata": {},
   "outputs": [
    {
     "name": "stdout",
     "output_type": "stream",
     "text": [
      "F350\n",
      "Jeep\n",
      "Ram\n",
      "Motorcycle\n"
     ]
    }
   ],
   "source": [
    "# Searching a list\n",
    "\n",
    "vehicles = [\"F350\", \"Jeep\", \"Ram\", \"Motorcycle\"]\n",
    "\n",
    "for transportation in vehicles:\n",
    "    print(transportation)\n"
   ]
  },
  {
   "cell_type": "code",
   "execution_count": null,
   "id": "809e3340-6b8e-4d6c-8648-5a8b7bd3701b",
   "metadata": {},
   "outputs": [],
   "source": []
  }
 ],
 "metadata": {
  "kernelspec": {
   "display_name": "Python 3 (ipykernel)",
   "language": "python",
   "name": "python3"
  },
  "language_info": {
   "codemirror_mode": {
    "name": "ipython",
    "version": 3
   },
   "file_extension": ".py",
   "mimetype": "text/x-python",
   "name": "python",
   "nbconvert_exporter": "python",
   "pygments_lexer": "ipython3",
   "version": "3.12.3"
  }
 },
 "nbformat": 4,
 "nbformat_minor": 5
}
