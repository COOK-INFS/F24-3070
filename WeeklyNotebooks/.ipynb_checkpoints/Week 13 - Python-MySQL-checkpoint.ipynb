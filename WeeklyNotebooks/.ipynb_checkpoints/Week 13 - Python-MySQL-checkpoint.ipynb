{
 "cells": [
  {
   "cell_type": "markdown",
   "metadata": {},
   "source": [
    "# Create database\n",
    "First we need to create a database so we can perform the CRUD operations using Python."
   ]
  },
  {
   "cell_type": "markdown",
   "metadata": {},
   "source": [
    "# Database specification and setup"
   ]
  },
  {
   "cell_type": "markdown",
   "metadata": {},
   "source": [
    "The database to use will be ‘infs3070’ and each student can create their own database table by either using PHPMyAdmin, or by using the SQL script from the command line. Name your database your username so it is easy to keep track of the various databases.\n",
    "\n",
    "We can use the previous username and password that was created:\n",
    "\n",
    "Username: infs3070\n",
    "Password: pydev\n",
    "\n",
    "Table design:\n",
    "\n",
    "|STUDENTS|\n",
    "|PK|Column Name|Data Type|\n",
    "|--|-----------|---------|\n",
    "|PK| studentID | int |\n",
    "|| lastName | varchar(45) |\n",
    "|| firstName | varchar (45) |\n",
    "|| email | varchar (45) |\n",
    "\n"
   ]
  },
  {
   "cell_type": "code",
   "execution_count": null,
   "metadata": {
    "vscode": {
     "languageId": "sql"
    }
   },
   "outputs": [],
   "source": [
    "CREATE TABLE `infs3070`.`rcook2` (`studentID` INT NOT NULL AUTO_INCREMENT , `lastName` VARCHAR(45) NOT NULL , `firstName` VARCHAR(45) NOT NULL , `email` VARCHAR(45) NOT NULL , PRIMARY KEY (`studentID`));"
   ]
  },
  {
   "cell_type": "markdown",
   "metadata": {},
   "source": [
    "# Connecting Python to the database"
   ]
  },
  {
   "cell_type": "markdown",
   "metadata": {},
   "source": [
    "## Connection options\n",
    "\n",
    "We have two primary options when connecting Python to a database. In both options we will utilize the mysql.connector library previously installed.\n",
    "\n",
    "If the mysql library is not installed or you are receiving errors that the library cannot be found it can be installed by:\n",
    "\n",
    "``` conda install anaconda::mysql-connector-python ```\n",
    "\n",
    "or\n",
    "\n",
    "``` pip3 install mysql-connector-python ```"
   ]
  },
  {
   "cell_type": "markdown",
   "metadata": {},
   "source": [
    "### Option 1 -\n",
    "Provide connection details directly in the Python file that needs access."
   ]
  },
  {
   "cell_type": "code",
   "execution_count": 1,
   "metadata": {},
   "outputs": [],
   "source": [
    "import mysql.connector\n",
    "\n",
    "def create_conn():\n",
    "    conn = mysql.connector.connect(\n",
    "        host=\"128.198.162.191\",\n",
    "        user=\"infs3070\",\n",
    "        # user = os.environ.get('3070user'), \n",
    "        password=\"pydev\",\n",
    "        # password = os.environ.get('3070pass'),\n",
    "        database=\"infs3070\"\n",
    "    )\n",
    "    return conn"
   ]
  },
  {
   "cell_type": "markdown",
   "metadata": {},
   "source": [
    "### Option 2 - \n",
    "Calling a function in a separate file that contains the MySQL connection details. (This is my preferred method)"
   ]
  },
  {
   "cell_type": "markdown",
   "metadata": {},
   "source": [
    "Create a file to store your Python connection details in (e.g. dbConnect.py)"
   ]
  },
  {
   "cell_type": "code",
   "execution_count": null,
   "metadata": {},
   "outputs": [],
   "source": [
    "import mysql.connector\n",
    "\n",
    "def create_conn():\n",
    "    conn = mysql.connector.connect(\n",
    "        host=\"128.198.162.191\",\n",
    "        user=\"infs3070\",\n",
    "        # user = os.environ.get('3070user'), \n",
    "        password=\"pydev\",\n",
    "        # password = os.environ.get('3070pass'),\n",
    "        database=\"infs3070\"\n",
    "    )\n",
    "    return conn"
   ]
  },
  {
   "cell_type": "markdown",
   "metadata": {},
   "source": [
    "Once you have created the file you can call the function within your main program file."
   ]
  },
  {
   "cell_type": "code",
   "execution_count": null,
   "metadata": {},
   "outputs": [],
   "source": [
    "# This should be added to each function area.\n",
    "# Otherwise you have to run all of the functions.\n",
    "\n",
    "from dbConfig import create_conn"
   ]
  },
  {
   "cell_type": "markdown",
   "metadata": {},
   "source": [
    "# ```__name__ == “__main__”:```"
   ]
  },
  {
   "cell_type": "markdown",
   "metadata": {},
   "source": [
    "Python files are referred to as “modules”. A module can have functions, classes, and variables. When the Python interpreter runs a module, the `__name__` variable will be set as `__main__` if the module being run is the main program. But if the code is being run from another module, then the `__name__` variable will be set to that module’s (file) name.\n",
    "\n",
    "In Python, the if **name** == '**main**': block is a conditional statement that checks whether the current module (Python file) is being run as the main program or if it is being imported as a module into another program.\n",
    "\n",
    "Here's how it works:\n",
    "\n",
    "1. Every Python module has a special variable called **name**. When a module is executed as the main program, the **name** variable is set to the string '**main**'. However, if the module is being imported into another program, the **name** variable is set to the name of the module.\n",
    "2. The if **name** == '**main**': block allows you to specify code that should only be executed when the module is run as the main program. This block is typically placed at the end of the module, after all the function and class definitions.\n",
    "3. Any code inside the if **name** == '**main**': block will be executed only if the module is run directly as the main program. If the module is imported into another program, the code inside this block will be skipped.\n",
    "\n",
    "Specifying this variable allows us to control which module the Python  interpreter should consider the “main” module when there are multiple modules that are imported into other modules."
   ]
  },
  {
   "cell_type": "markdown",
   "metadata": {},
   "source": [
    "# Python connection and cursor objects:"
   ]
  },
  {
   "cell_type": "markdown",
   "metadata": {},
   "source": [
    "When we want to interact with a database using Python, it is common for us to use a connection object (`conn = create_conn()`) to create the connection to the database, and a cursor object (`cursor = conn.cursor()`) to interact with the database once connected.\n",
    "\n",
    "When we have finished using these connections we should close the connections to free up the system resources used by them. `cursor.close()` and `conn.close()` ."
   ]
  },
  {
   "cell_type": "markdown",
   "metadata": {},
   "source": []
  }
 ],
 "metadata": {
  "kernelspec": {
   "display_name": "Python (dissertation)",
   "language": "python",
   "name": "dissertation"
  },
  "language_info": {
   "codemirror_mode": {
    "name": "ipython",
    "version": 3
   },
   "file_extension": ".py",
   "mimetype": "text/x-python",
   "name": "python",
   "nbconvert_exporter": "python",
   "pygments_lexer": "ipython3",
   "version": "3.12.3"
  }
 },
 "nbformat": 4,
 "nbformat_minor": 2
}
