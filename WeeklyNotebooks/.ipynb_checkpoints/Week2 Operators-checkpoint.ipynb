{
 "cells": [
  {
   "cell_type": "code",
   "execution_count": 1,
   "id": "f85e60f1-591d-497b-9c54-a9ed446dae95",
   "metadata": {},
   "outputs": [
    {
     "name": "stdout",
     "output_type": "stream",
     "text": [
      "Hello World\n"
     ]
    }
   ],
   "source": [
    "print(\"Hello World\")"
   ]
  },
  {
   "cell_type": "markdown",
   "id": "6f67d597-b43a-4a8a-a4c2-5f9f11b224f6",
   "metadata": {
    "jp-MarkdownHeadingCollapsed": true
   },
   "source": [
    "# Variables and Assignment operators\n"
   ]
  },
  {
   "cell_type": "code",
   "execution_count": 5,
   "id": "6d57f94d-89ac-4edd-9b45-cfb16f290e3b",
   "metadata": {},
   "outputs": [
    {
     "name": "stdout",
     "output_type": "stream",
     "text": [
      "480\n"
     ]
    }
   ],
   "source": [
    "hoursWorked = 24\n",
    "payRate = 20\n",
    "\n",
    "c = hoursWorked*payRate\n",
    "\n",
    "print(c)"
   ]
  },
  {
   "cell_type": "markdown",
   "id": "063bbebc-2c2c-4241-aa10-7b7bff269ee2",
   "metadata": {
    "jp-MarkdownHeadingCollapsed": true
   },
   "source": [
    "# Assignment Operators"
   ]
  },
  {
   "cell_type": "code",
   "execution_count": 7,
   "id": "d95095c6-4afd-4fb6-8515-9d7e93dd857d",
   "metadata": {},
   "outputs": [
    {
     "name": "stdout",
     "output_type": "stream",
     "text": [
      "Bob Cook\n"
     ]
    }
   ],
   "source": [
    "name = \"Bob Cook\"\n",
    "print(name)"
   ]
  },
  {
   "cell_type": "code",
   "execution_count": 8,
   "id": "51daac03-a718-43fd-8de8-73586c66156c",
   "metadata": {},
   "outputs": [
    {
     "name": "stdout",
     "output_type": "stream",
     "text": [
      "8\n"
     ]
    }
   ],
   "source": [
    "x = 5\n",
    "x += 3\n",
    "print(x)"
   ]
  },
  {
   "cell_type": "code",
   "execution_count": 9,
   "id": "23d081c9-35e1-451e-9a95-f4e033bda362",
   "metadata": {},
   "outputs": [
    {
     "name": "stdout",
     "output_type": "stream",
     "text": [
      "3\n"
     ]
    }
   ],
   "source": [
    "x = 5\n",
    "x -= 2\n",
    "print(x)"
   ]
  },
  {
   "cell_type": "code",
   "execution_count": 10,
   "id": "33f6beec-3b1b-4264-821f-deca3ad8d22c",
   "metadata": {},
   "outputs": [
    {
     "name": "stdout",
     "output_type": "stream",
     "text": [
      "15\n"
     ]
    }
   ],
   "source": [
    "x = 5\n",
    "x *= 3\n",
    "print(x)"
   ]
  },
  {
   "cell_type": "code",
   "execution_count": 12,
   "id": "2e81e817-a019-43d8-a5a4-18622cb9f935",
   "metadata": {},
   "outputs": [
    {
     "name": "stdout",
     "output_type": "stream",
     "text": [
      "3.3333333333333335\n"
     ]
    }
   ],
   "source": [
    "x = 10\n",
    "x /= 3\n",
    "print(x)"
   ]
  },
  {
   "cell_type": "code",
   "execution_count": 13,
   "id": "b89917e8-8dcb-4a4f-98e8-9ade98682b49",
   "metadata": {},
   "outputs": [
    {
     "name": "stdout",
     "output_type": "stream",
     "text": [
      "1\n"
     ]
    }
   ],
   "source": [
    "x = 10\n",
    "x %= 3\n",
    "print(x)"
   ]
  },
  {
   "cell_type": "code",
   "execution_count": 14,
   "id": "ad91c120-7b38-4380-8901-743755aa720a",
   "metadata": {},
   "outputs": [
    {
     "name": "stdout",
     "output_type": "stream",
     "text": [
      "1000\n"
     ]
    }
   ],
   "source": [
    "x = 10\n",
    "x **=3\n",
    "print(x)"
   ]
  },
  {
   "cell_type": "code",
   "execution_count": 15,
   "id": "e22b3946-416c-4195-a4a9-af2dffd37795",
   "metadata": {},
   "outputs": [
    {
     "name": "stdout",
     "output_type": "stream",
     "text": [
      "3\n"
     ]
    }
   ],
   "source": [
    "x = 10\n",
    "x //=3\n",
    "print(x)"
   ]
  },
  {
   "cell_type": "code",
   "execution_count": 19,
   "id": "11da5502-2509-49ae-8897-2e0733a2abea",
   "metadata": {},
   "outputs": [
    {
     "name": "stdout",
     "output_type": "stream",
     "text": [
      "5\n"
     ]
    }
   ],
   "source": [
    "x = 17\n",
    "y = 3\n",
    "print(x//y)"
   ]
  },
  {
   "cell_type": "code",
   "execution_count": 18,
   "id": "32f7984c-d84e-484c-bcd2-114e4614134b",
   "metadata": {},
   "outputs": [
    {
     "name": "stdout",
     "output_type": "stream",
     "text": [
      "5.666666666666667\n"
     ]
    }
   ],
   "source": [
    "x = 17\n",
    "y = 3\n",
    "print (x/y)"
   ]
  },
  {
   "cell_type": "markdown",
   "id": "f30a2bac-f11f-49f9-8fe3-6d0339baf036",
   "metadata": {},
   "source": [
    "# Arithmetic operators"
   ]
  },
  {
   "cell_type": "code",
   "execution_count": 20,
   "id": "92a77e22-a28f-4360-b130-05a4c21a3d5f",
   "metadata": {},
   "outputs": [
    {
     "name": "stdout",
     "output_type": "stream",
     "text": [
      "8\n"
     ]
    }
   ],
   "source": [
    "x = 5\n",
    "y = 3\n",
    "print(x+y)"
   ]
  },
  {
   "cell_type": "code",
   "execution_count": 21,
   "id": "60c5ba24-f8b9-4672-a2a8-afa07fe2406f",
   "metadata": {},
   "outputs": [
    {
     "name": "stdout",
     "output_type": "stream",
     "text": [
      "2\n"
     ]
    }
   ],
   "source": [
    "x = 5\n",
    "y = 3\n",
    "print(x-y)"
   ]
  },
  {
   "cell_type": "code",
   "execution_count": 22,
   "id": "912153e5-6836-4a6c-9158-08766efbb47c",
   "metadata": {},
   "outputs": [
    {
     "name": "stdout",
     "output_type": "stream",
     "text": [
      "15\n"
     ]
    }
   ],
   "source": [
    "x = 5\n",
    "y = 3\n",
    "print (x*y)\n"
   ]
  },
  {
   "cell_type": "code",
   "execution_count": 23,
   "id": "4970d0b9-1296-48d7-8b61-32a420b0313e",
   "metadata": {},
   "outputs": [
    {
     "name": "stdout",
     "output_type": "stream",
     "text": [
      "5.0\n"
     ]
    }
   ],
   "source": [
    "x = 10\n",
    "y = 2\n",
    "print (x/y)"
   ]
  },
  {
   "cell_type": "code",
   "execution_count": 24,
   "id": "94a56524-b0ea-42c7-938a-5af6b4ba8d3f",
   "metadata": {},
   "outputs": [
    {
     "name": "stdout",
     "output_type": "stream",
     "text": [
      "1\n"
     ]
    }
   ],
   "source": [
    "x = 10\n",
    "y = 3\n",
    "print (x % y)"
   ]
  },
  {
   "cell_type": "markdown",
   "id": "c22e74e5-9333-4860-94bf-735c8918f086",
   "metadata": {},
   "source": [
    "# Comparison Operators"
   ]
  },
  {
   "cell_type": "code",
   "execution_count": 25,
   "id": "6f7d74ad-f3f2-425d-961b-3584c5ae351f",
   "metadata": {},
   "outputs": [
    {
     "name": "stdout",
     "output_type": "stream",
     "text": [
      "False\n"
     ]
    }
   ],
   "source": [
    "x = 10\n",
    "y = 3\n",
    "print(x==y)"
   ]
  },
  {
   "cell_type": "code",
   "execution_count": 26,
   "id": "5f22ac0a-72b1-406a-bea8-2bbffb0236c7",
   "metadata": {},
   "outputs": [
    {
     "name": "stdout",
     "output_type": "stream",
     "text": [
      "True\n"
     ]
    }
   ],
   "source": [
    "X = 10\n",
    "y = 3\n",
    "print(x != y)"
   ]
  },
  {
   "cell_type": "code",
   "execution_count": 27,
   "id": "150f6526-b034-428b-b651-39d9b7f5a655",
   "metadata": {},
   "outputs": [
    {
     "name": "stdout",
     "output_type": "stream",
     "text": [
      "True\n"
     ]
    }
   ],
   "source": [
    "x = 10\n",
    "y = 3\n",
    "print(x>y)"
   ]
  },
  {
   "cell_type": "code",
   "execution_count": 28,
   "id": "b3b56142-9f46-4d9f-9dab-3192bcf18ea4",
   "metadata": {},
   "outputs": [
    {
     "name": "stdout",
     "output_type": "stream",
     "text": [
      "False\n"
     ]
    }
   ],
   "source": [
    "x = 10\n",
    "y = 3\n",
    "print (x<y)"
   ]
  },
  {
   "cell_type": "code",
   "execution_count": 31,
   "id": "3514607d-ed20-48a1-a883-bdd1dad3f4af",
   "metadata": {},
   "outputs": [
    {
     "name": "stdout",
     "output_type": "stream",
     "text": [
      "True\n"
     ]
    }
   ],
   "source": [
    "x = 10\n",
    "y = 3\n",
    "print (x>=y)"
   ]
  },
  {
   "cell_type": "markdown",
   "id": "641500fe-e403-42ee-8b53-c7be3b6381af",
   "metadata": {},
   "source": [
    "# Logical Operators"
   ]
  },
  {
   "cell_type": "code",
   "execution_count": 32,
   "id": "929bf44a-4ff6-405c-97c7-e63eb79fadcc",
   "metadata": {},
   "outputs": [
    {
     "name": "stdout",
     "output_type": "stream",
     "text": [
      "True\n"
     ]
    }
   ],
   "source": [
    "x = 10\n",
    "print (x>2 and x<11)"
   ]
  },
  {
   "cell_type": "code",
   "execution_count": 33,
   "id": "5aada25c-ec7b-4fb6-b61f-1aa9fc8ffeca",
   "metadata": {},
   "outputs": [
    {
     "name": "stdout",
     "output_type": "stream",
     "text": [
      "True\n"
     ]
    }
   ],
   "source": [
    "x = 10\n",
    "print (x > 2 or x < 9)"
   ]
  },
  {
   "cell_type": "code",
   "execution_count": 34,
   "id": "80dcd64a-cdfa-4d2b-b6c8-c2012e61dc2a",
   "metadata": {},
   "outputs": [
    {
     "name": "stdout",
     "output_type": "stream",
     "text": [
      "False\n"
     ]
    }
   ],
   "source": [
    "x = 10\n",
    "print(not(x > 2 and x <11))"
   ]
  },
  {
   "cell_type": "markdown",
   "id": "e09eb465-df08-42c2-be59-e7f9741897ae",
   "metadata": {},
   "source": [
    "# Identity operators"
   ]
  },
  {
   "cell_type": "code",
   "execution_count": 41,
   "id": "5601f38a-f5c3-4dd6-98d3-1f0976f14db3",
   "metadata": {},
   "outputs": [
    {
     "name": "stdout",
     "output_type": "stream",
     "text": [
      "True\n"
     ]
    }
   ],
   "source": [
    "x = ['truck', 'car', 'suv']\n",
    "print('truck' in x)"
   ]
  },
  {
   "cell_type": "code",
   "execution_count": 40,
   "id": "5b85cd84-dcbc-4448-a8cc-ed1a4db750fd",
   "metadata": {},
   "outputs": [
    {
     "name": "stdout",
     "output_type": "stream",
     "text": [
      "False\n"
     ]
    }
   ],
   "source": [
    "x = ['truck', 'car', 'suv']\n",
    "print('truck' not in x)"
   ]
  },
  {
   "cell_type": "markdown",
   "id": "a544cf86-c50d-4231-914b-2064c25e95a2",
   "metadata": {},
   "source": [
    "# Data Types"
   ]
  },
  {
   "cell_type": "markdown",
   "id": "105e234c-8111-4f9f-8490-785ccf1f7bdc",
   "metadata": {},
   "source": [
    "## Numeric"
   ]
  },
  {
   "cell_type": "code",
   "execution_count": 42,
   "id": "a8951099-c8db-45a2-a810-706986d42314",
   "metadata": {},
   "outputs": [
    {
     "name": "stdout",
     "output_type": "stream",
     "text": [
      "<class 'int'>\n"
     ]
    }
   ],
   "source": [
    "x = 5\n",
    "print(type(x))"
   ]
  },
  {
   "cell_type": "code",
   "execution_count": 43,
   "id": "525d608c-f7a5-40b1-883d-97d7195b8074",
   "metadata": {},
   "outputs": [
    {
     "name": "stdout",
     "output_type": "stream",
     "text": [
      "<class 'float'>\n"
     ]
    }
   ],
   "source": [
    "x = 5.5\n",
    "print(type(x))"
   ]
  },
  {
   "cell_type": "code",
   "execution_count": 46,
   "id": "c71e67e3-db50-4b27-b878-8d7f1279a616",
   "metadata": {},
   "outputs": [
    {
     "name": "stdout",
     "output_type": "stream",
     "text": [
      "<class 'complex'>\n"
     ]
    }
   ],
   "source": [
    "x = 5*1j\n",
    "print(type(x))"
   ]
  },
  {
   "cell_type": "markdown",
   "id": "1b2fb8ec-d260-42e8-976b-401e333030e8",
   "metadata": {},
   "source": [
    "## Text"
   ]
  },
  {
   "cell_type": "code",
   "execution_count": 49,
   "id": "9b6eb11b-fefd-4afb-98e0-64276e0e3748",
   "metadata": {},
   "outputs": [
    {
     "name": "stdout",
     "output_type": "stream",
     "text": [
      "Hello \n",
      "Bob\n"
     ]
    }
   ],
   "source": [
    "x = '''Hello \n",
    "Bob'''\n",
    "print(x)"
   ]
  },
  {
   "cell_type": "code",
   "execution_count": 51,
   "id": "6cfd5c90-06ab-4d82-8174-6116844ee445",
   "metadata": {},
   "outputs": [
    {
     "name": "stdout",
     "output_type": "stream",
     "text": [
      "o B\n"
     ]
    }
   ],
   "source": [
    "x = \"Hello Bob\"\n",
    "print(x[4:7])"
   ]
  },
  {
   "cell_type": "code",
   "execution_count": 53,
   "id": "0c04ff2c-c785-4317-92f1-d11f73e1e7c4",
   "metadata": {},
   "outputs": [
    {
     "name": "stdout",
     "output_type": "stream",
     "text": [
      "Bob Cook\n"
     ]
    }
   ],
   "source": [
    "x = \"Bob\"\n",
    "y = \" Cook\"\n",
    "print(x+y)"
   ]
  },
  {
   "cell_type": "code",
   "execution_count": 54,
   "id": "be3d80dc-e2a4-467c-9ffc-eae2bb425b98",
   "metadata": {},
   "outputs": [
    {
     "name": "stdout",
     "output_type": "stream",
     "text": [
      "HELLO BOB\n"
     ]
    }
   ],
   "source": [
    "x = \"Hello Bob\"\n",
    "print(x.upper())"
   ]
  },
  {
   "cell_type": "code",
   "execution_count": 55,
   "id": "8ea6877f-43bb-4414-98ad-c1d12caea617",
   "metadata": {},
   "outputs": [
    {
     "name": "stdout",
     "output_type": "stream",
     "text": [
      "hello bob\n"
     ]
    }
   ],
   "source": [
    "x = 'Hello Bob'\n",
    "print(x.lower())"
   ]
  },
  {
   "cell_type": "code",
   "execution_count": 57,
   "id": "df4c025a-8082-4090-a2fb-79be103322c4",
   "metadata": {},
   "outputs": [
    {
     "name": "stdout",
     "output_type": "stream",
     "text": [
      "Hello Bob, this is \"awesome\"\n"
     ]
    }
   ],
   "source": [
    "x = \"Hello Bob, this is \\\"awesome\\\"\"\n",
    "print(x)"
   ]
  },
  {
   "cell_type": "markdown",
   "id": "8d59e770-1afe-4168-b5b6-f14043b8d724",
   "metadata": {},
   "source": [
    "## Boolean data types"
   ]
  },
  {
   "cell_type": "code",
   "execution_count": 58,
   "id": "9ffd220a-bcc4-406c-baa6-adc9342f445f",
   "metadata": {},
   "outputs": [
    {
     "name": "stdout",
     "output_type": "stream",
     "text": [
      "False\n"
     ]
    }
   ],
   "source": [
    "x = 10\n",
    "y = 5\n",
    "print(x<y)"
   ]
  },
  {
   "cell_type": "code",
   "execution_count": 60,
   "id": "38dc6c63-4c89-492d-909f-a436af6dd3c4",
   "metadata": {},
   "outputs": [
    {
     "name": "stdout",
     "output_type": "stream",
     "text": [
      "Y is greater than x\n"
     ]
    }
   ],
   "source": [
    "''' I'm using a conditional to figure out\n",
    "whether x is greater than y. '''\n",
    "\n",
    "x = 10\n",
    "y = 55\n",
    "if x > y: # This condition must return TRUE for the first line of code below to run.\n",
    "    print (\"x is greater than y\")\n",
    "else: # This line of code will only run if the first condition returns FALSE.\n",
    "    print(\"Y is greater than x\")"
   ]
  },
  {
   "cell_type": "code",
   "execution_count": null,
   "id": "9b98262a-592f-46fd-bd4d-b47a845dce7e",
   "metadata": {},
   "outputs": [],
   "source": []
  }
 ],
 "metadata": {
  "kernelspec": {
   "display_name": "Python 3 (ipykernel)",
   "language": "python",
   "name": "python3"
  },
  "language_info": {
   "codemirror_mode": {
    "name": "ipython",
    "version": 3
   },
   "file_extension": ".py",
   "mimetype": "text/x-python",
   "name": "python",
   "nbconvert_exporter": "python",
   "pygments_lexer": "ipython3",
   "version": "3.12.4"
  }
 },
 "nbformat": 4,
 "nbformat_minor": 5
}
