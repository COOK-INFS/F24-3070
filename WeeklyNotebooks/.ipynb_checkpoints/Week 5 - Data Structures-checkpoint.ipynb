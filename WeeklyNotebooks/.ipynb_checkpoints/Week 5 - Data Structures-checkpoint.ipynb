{
 "cells": [
  {
   "cell_type": "markdown",
   "id": "b955da44-5b83-4088-b053-0e3bf9680f30",
   "metadata": {},
   "source": [
    "# List examples"
   ]
  },
  {
   "cell_type": "code",
   "execution_count": 2,
   "id": "f7e199cd-aa2f-4cf3-b424-f215654ca802",
   "metadata": {},
   "outputs": [
    {
     "name": "stdout",
     "output_type": "stream",
     "text": [
      "['Jeep', 'F350', 'Ram', 11]\n"
     ]
    }
   ],
   "source": [
    "cars = ['Jeep', 'F350', 'Ram', 11]\n",
    "print(cars)"
   ]
  },
  {
   "cell_type": "code",
   "execution_count": 5,
   "id": "dc1d5573-e602-4104-88a2-c1dabad445d4",
   "metadata": {},
   "outputs": [
    {
     "name": "stdout",
     "output_type": "stream",
     "text": [
      "F350\n"
     ]
    }
   ],
   "source": [
    "# Retrieve a specific List element\n",
    "\n",
    "print(cars[1])"
   ]
  },
  {
   "cell_type": "code",
   "execution_count": 7,
   "id": "00e6bff1-b463-4bf6-9ed2-7d71db966f7f",
   "metadata": {},
   "outputs": [
    {
     "name": "stdout",
     "output_type": "stream",
     "text": [
      "['Jeep', 'F350', 'Ram']\n"
     ]
    }
   ],
   "source": [
    "# Select a range within my list\n",
    "\n",
    "print(cars[0:3])"
   ]
  },
  {
   "cell_type": "code",
   "execution_count": 8,
   "id": "4cf025dc-22bf-4766-9290-fad99317ef2f",
   "metadata": {},
   "outputs": [
    {
     "name": "stdout",
     "output_type": "stream",
     "text": [
      "['Jeep', 'Motorcycle', 'Ram', 11]\n"
     ]
    }
   ],
   "source": [
    "# Adding values to a list\n",
    "\n",
    "cars[1] = 'Motorcycle'\n",
    "print(cars)"
   ]
  },
  {
   "cell_type": "markdown",
   "id": "a156c119-39e6-4152-883f-40bb55938e6a",
   "metadata": {},
   "source": [
    "## List operations"
   ]
  },
  {
   "cell_type": "code",
   "execution_count": 10,
   "id": "c644d99e-e36c-4b62-b9f4-9f0be97db820",
   "metadata": {},
   "outputs": [
    {
     "name": "stdout",
     "output_type": "stream",
     "text": [
      "I did not find jeep.\n"
     ]
    }
   ],
   "source": [
    "cars = ['Jeep', 'F350', 'Ram', 11]\n",
    "\n",
    "lookingFor = 'jeep'\n",
    "\n",
    "if lookingFor in cars:\n",
    "    print(f\"{lookingFor} is in the list {cars}\") # \"f\" represents a formatted String.\n",
    "else:\n",
    "    print(f\"I did not find {lookingFor}.\")"
   ]
  },
  {
   "cell_type": "code",
   "execution_count": 11,
   "id": "6366827c-62f7-47aa-ac38-23c85c6ec862",
   "metadata": {},
   "outputs": [
    {
     "name": "stdin",
     "output_type": "stream",
     "text": [
      "What car are you looking for? F350\n"
     ]
    },
    {
     "name": "stdout",
     "output_type": "stream",
     "text": [
      "F350 is in the list at index 1\n"
     ]
    }
   ],
   "source": [
    "lookingFor = input(\"What car are you looking for?\")\n",
    "\n",
    "# Search and return the Index location\n",
    "if lookingFor in cars:\n",
    "    index_location = cars.index(lookingFor)\n",
    "    print(f\"{lookingFor} is in the list at index {index_location}\")\n",
    "else:\n",
    "    print(f\"I did not find {lookingFor} in the list\")"
   ]
  },
  {
   "cell_type": "code",
   "execution_count": 15,
   "id": "2710a70e-1591-4e98-92ca-a3b1c50db865",
   "metadata": {},
   "outputs": [
    {
     "name": "stdin",
     "output_type": "stream",
     "text": [
      "What car are you looking for? f350\n"
     ]
    },
    {
     "name": "stdout",
     "output_type": "stream",
     "text": [
      "f350 is in the list at index 1\n",
      "['Jeep', 'F350', 'Ram']\n",
      "['jeep', 'f350', 'ram']\n"
     ]
    }
   ],
   "source": [
    "# Process to ignore case sensitivity\n",
    "cars = ['Jeep', 'F350', 'Ram']\n",
    "lookingFor = input(\"What car are you looking for?\")\n",
    "\n",
    "# Convert the input and list items to lower case.\n",
    "lowerCars = [car.lower() for car in cars]\n",
    "lower_lookingFor = lookingFor.lower()\n",
    "if lower_lookingFor in lowerCars:\n",
    "    index_location = lowerCars.index(lower_lookingFor)\n",
    "    print(f\"{lookingFor} is in the list at index {index_location}\")\n",
    "else:\n",
    "    print(f\"I did not find {lookingFor} in the list\")\n",
    "\n",
    "print(cars)\n",
    "print(lowerCars)"
   ]
  },
  {
   "cell_type": "code",
   "execution_count": 21,
   "id": "1dc3d138-79ad-46a0-b148-2291ac64c099",
   "metadata": {},
   "outputs": [
    {
     "name": "stdout",
     "output_type": "stream",
     "text": [
      "4\n",
      "3\n"
     ]
    }
   ],
   "source": [
    "# Return the length of a list\n",
    "s = [1,2,3,4,5]\n",
    "cars = ['Jeep', 'F350', 'Ram', [1,2,3,4,5]]\n",
    "\n",
    "print(len(cars))\n",
    "print (cars[3][2])"
   ]
  },
  {
   "cell_type": "code",
   "execution_count": 25,
   "id": "afb03081-b9b6-4e68-b81d-eb43cf0278f2",
   "metadata": {},
   "outputs": [
    {
     "name": "stdout",
     "output_type": "stream",
     "text": [
      "15\n"
     ]
    }
   ],
   "source": [
    "# If a list is all numeric values we can use methods to sum those values\n",
    "\n",
    "print(sum(s))"
   ]
  },
  {
   "cell_type": "markdown",
   "id": "f6a0277c-8efc-4588-abf6-515effcb9127",
   "metadata": {},
   "source": [
    "## List methods"
   ]
  },
  {
   "cell_type": "code",
   "execution_count": 26,
   "id": "d869c7db-5906-405d-9ee4-ae197c2063b7",
   "metadata": {},
   "outputs": [
    {
     "name": "stdout",
     "output_type": "stream",
     "text": [
      "['Jeep', 'F350', 'Ram', 'Motorcycle']\n"
     ]
    }
   ],
   "source": [
    "cars = ['Jeep', 'F350', 'Ram']\n",
    "cars.append('Motorcycle')\n",
    "\n",
    "print(cars)"
   ]
  },
  {
   "cell_type": "code",
   "execution_count": 27,
   "id": "950eaf53-1dfc-4f51-b29e-dae57ab25beb",
   "metadata": {},
   "outputs": [
    {
     "name": "stdout",
     "output_type": "stream",
     "text": [
      "[1, 2, 3, 4, 5, 6]\n"
     ]
    }
   ],
   "source": [
    "# Combining information in two lists into one list\n",
    "list1 = [1,2,3]\n",
    "list2 = [4,5,6]\n",
    "\n",
    "list1.extend(list2)\n",
    "print(list1)"
   ]
  },
  {
   "cell_type": "code",
   "execution_count": 28,
   "id": "4d5a5073-b889-4809-b777-2bb908db362b",
   "metadata": {},
   "outputs": [
    {
     "name": "stdout",
     "output_type": "stream",
     "text": [
      "['Jeep', 'Motorcycle', 'F350', 'Ram']\n"
     ]
    }
   ],
   "source": [
    "# Insert values at a specific index\n",
    "cars = ['Jeep', 'F350', 'Ram']\n",
    "cars.insert(1, 'Motorcycle')\n",
    "print(cars)"
   ]
  },
  {
   "cell_type": "code",
   "execution_count": 29,
   "id": "f29341af-882a-4246-b73f-683c9abecf1a",
   "metadata": {},
   "outputs": [
    {
     "name": "stdout",
     "output_type": "stream",
     "text": [
      "['F350', 'Jeep', 'Motorcycle', 'Ram']\n"
     ]
    }
   ],
   "source": [
    "# Sort a list\n",
    "cars.sort()\n",
    "print(cars)"
   ]
  },
  {
   "cell_type": "code",
   "execution_count": 31,
   "id": "61d04273-e798-4892-9e9c-3b0be83605e0",
   "metadata": {},
   "outputs": [
    {
     "name": "stdout",
     "output_type": "stream",
     "text": [
      "['Ram', 'Motorcycle', 'Jeep', 'F350']\n"
     ]
    }
   ],
   "source": [
    "# Reverse the sort\n",
    "cars.reverse()\n",
    "print(cars)"
   ]
  },
  {
   "cell_type": "markdown",
   "id": "9d2f8d71-62e2-4e20-89dc-7470614d3581",
   "metadata": {},
   "source": [
    "# 2D Lists examples"
   ]
  },
  {
   "cell_type": "markdown",
   "id": "e088a780-2dcc-4819-895b-e5c0cd6b6599",
   "metadata": {},
   "source": [
    "2D lists in Python, also known as lists of lists, are a way to create a matrix or a table-like data structure. It's essentially a list where each item in the list is another list. This nested list structure allows for representing data in rows and columns, making it useful for applications like spreadsheets, games, and data processing where multidimensional data storage is needed"
   ]
  },
  {
   "cell_type": "code",
   "execution_count": 32,
   "id": "2f8861d4-8460-481d-89b4-57cbda491d71",
   "metadata": {},
   "outputs": [
    {
     "name": "stdout",
     "output_type": "stream",
     "text": [
      "[['Buell', 'GS650', 'K1200GT'], ['S10', 'Ram', 'F350'], ['Rubicon', 'CJ5']]\n"
     ]
    }
   ],
   "source": [
    "matrix = [\n",
    "    ['Buell', 'GS650', 'K1200GT'],\n",
    "    ['S10', 'Ram', 'F350'],\n",
    "    ['Rubicon', 'CJ5']\n",
    "]\n",
    "\n",
    "print(matrix)"
   ]
  },
  {
   "cell_type": "code",
   "execution_count": 33,
   "id": "0909ec90-379f-42df-8db4-3a7d9a555be7",
   "metadata": {},
   "outputs": [
    {
     "name": "stdout",
     "output_type": "stream",
     "text": [
      "[['Buell', 'GS650', 'K1200GT'], ['S10', 'Ram', 'F350'], ['Rubicon', 'CJ5']]\n"
     ]
    }
   ],
   "source": [
    "motorcycles = ['Buell', 'GS650', 'K1200GT']\n",
    "trucks = ['S10', 'Ram', 'F350']\n",
    "jeeps = ['Rubicon', 'CJ5']\n",
    "\n",
    "vehicles = [motorcycles, trucks, jeeps]\n",
    "\n",
    "print(vehicles)"
   ]
  },
  {
   "cell_type": "code",
   "execution_count": 34,
   "id": "4a4993b8-9a3b-4738-98c3-b88bd10f1bcf",
   "metadata": {},
   "outputs": [
    {
     "name": "stdout",
     "output_type": "stream",
     "text": [
      "Buell\n"
     ]
    }
   ],
   "source": [
    "# Accessing specific elements within a 2D list\n",
    "\n",
    "print(vehicles[0][0])"
   ]
  },
  {
   "cell_type": "markdown",
   "id": "e845817b-2cb7-4900-8e6a-a5c2c517a2d7",
   "metadata": {},
   "source": [
    "# 3D List"
   ]
  },
  {
   "cell_type": "markdown",
   "id": "668c0843-0f0b-4e01-bee8-7552e8578428",
   "metadata": {},
   "source": [
    "3D lists in Python, often referred to as lists of lists of lists, extend the concept of 2D lists to add another dimension. This structure can be visualized as a cube or a list containing multiple matrices, which makes it suitable for applications that require managing volumetric data or data that naturally fits into three dimensions, such as 3D graphics, scientific simulations, or complex data processing tasks that involve layers or depth in addition to rows and columns."
   ]
  },
  {
   "cell_type": "code",
   "execution_count": 35,
   "id": "c2f0e214-19ad-428b-8bd1-308624d6f79d",
   "metadata": {},
   "outputs": [
    {
     "name": "stdout",
     "output_type": "stream",
     "text": [
      "[[[1, 2, 3], [4, 5, 6]], [[7, 8, 9], [10, 11, 12]]]\n"
     ]
    }
   ],
   "source": [
    "cube = [\n",
    "    [\n",
    "        [1,2,3],\n",
    "        [4,5,6]\n",
    "    ],\n",
    "    [\n",
    "        [7,8,9],\n",
    "        [10,11,12]\n",
    "    ]\n",
    "]\n",
    "\n",
    "print(cube)\n",
    "\n"
   ]
  },
  {
   "cell_type": "code",
   "execution_count": 36,
   "id": "9497ed61-6a06-4bd5-876a-41472e762e3e",
   "metadata": {},
   "outputs": [
    {
     "name": "stdout",
     "output_type": "stream",
     "text": [
      "6\n"
     ]
    }
   ],
   "source": [
    "# Accessing elements with a 3D list\n",
    "element = cube[0][1][2]\n",
    "print(element)"
   ]
  },
  {
   "cell_type": "markdown",
   "id": "9f475b0a-d063-416a-9e9a-04fe6b47fdf8",
   "metadata": {},
   "source": [
    "# Tuples examples\n"
   ]
  },
  {
   "cell_type": "markdown",
   "id": "c3036c36-53f4-46ef-8b70-8f14ce8b3bd5",
   "metadata": {},
   "source": [
    "Tuples in Python are a fundamental data structure that serve as an ordered collection of elements. They are characterized by several key features:\n",
    "\n",
    "1. **Immutable**: Once a tuple is created, its elements cannot be changed, added, or removed. This immutability makes tuples a safe choice for representing fixed collections of items, such as days of the week or directions on a compass.\n",
    "2. **Ordered**: The elements in a tuple have a defined order, meaning that the items are indexed, starting from 0. You can access items in a tuple by referring to their index.\n",
    "3. **Allow Duplicates**: Tuples can contain multiple occurrences of the same value, allowing for the storage of duplicate elements.\n",
    "4. **Heterogeneous**: Tuples can contain elements of different data types, including int, float, string, and even other tuples, lists, or dictionaries. This flexibility makes them versatile for various applications.\n",
    "5. **Syntax**: Tuples are defined by enclosing the elements in parentheses `( )`, with items separated by commas. For example, `my_tuple = (1, \"Hello\", 3.14)` creates a tuple containing an integer, a string, and a float.\n",
    "6. **Use Cases**: Due to their immutability, tuples are often used for data that should not change over time, such as configuration data. They are also used when an immutable sequence of items is required, like keys in a dictionary.\n",
    "7. **Functions and Methods**: Python provides several built-in functions for tuples, such as `len()` for getting the length of a tuple, `max()` and `min()` for finding the largest and smallest items, and `tuple()` for creating a tuple from an iterable. However, because tuples are immutable, they have fewer methods compared to lists, such as no `append()` or `remove()` methods."
   ]
  },
  {
   "cell_type": "code",
   "execution_count": 39,
   "id": "484017c8-bc86-4c64-aca7-7defd705b816",
   "metadata": {},
   "outputs": [
    {
     "name": "stdout",
     "output_type": "stream",
     "text": [
      "Bob\n"
     ]
    }
   ],
   "source": [
    "myTuple = (1, 'Bob', 3.14)\n",
    "\n",
    "print(myTuple[1])"
   ]
  },
  {
   "cell_type": "markdown",
   "id": "fd5778af-d3d3-4cf7-abfd-f3e3c2ce13fa",
   "metadata": {},
   "source": [
    "## Tuple immutability"
   ]
  },
  {
   "cell_type": "code",
   "execution_count": 41,
   "id": "9f3a6971-456c-47a9-94cd-29f20a0ec222",
   "metadata": {},
   "outputs": [
    {
     "name": "stdout",
     "output_type": "stream",
     "text": [
      "(1, 'Bob', 3.14)\n"
     ]
    },
    {
     "ename": "TypeError",
     "evalue": "'tuple' object does not support item assignment",
     "output_type": "error",
     "traceback": [
      "\u001b[1;31m---------------------------------------------------------------------------\u001b[0m",
      "\u001b[1;31mTypeError\u001b[0m                                 Traceback (most recent call last)",
      "Cell \u001b[1;32mIn[41], line 4\u001b[0m\n\u001b[0;32m      1\u001b[0m \u001b[38;5;28mprint\u001b[39m(myTuple)\n\u001b[0;32m      3\u001b[0m \u001b[38;5;66;03m# Try changing the values in the Tuple\u001b[39;00m\n\u001b[1;32m----> 4\u001b[0m myTuple[\u001b[38;5;241m1\u001b[39m] \u001b[38;5;241m=\u001b[39m \u001b[38;5;124m'\u001b[39m\u001b[38;5;124mFred\u001b[39m\u001b[38;5;124m'\u001b[39m\n\u001b[0;32m      5\u001b[0m \u001b[38;5;28mprint\u001b[39m(myTuple)\n",
      "\u001b[1;31mTypeError\u001b[0m: 'tuple' object does not support item assignment"
     ]
    }
   ],
   "source": [
    "print(myTuple)\n",
    "\n",
    "# Try changing the values in the Tuple\n",
    "myTuple[1] = 'Fred'\n",
    "print(myTuple)"
   ]
  },
  {
   "cell_type": "code",
   "execution_count": 42,
   "id": "dbcdf28c-ea96-472b-9be4-5396e75f25b8",
   "metadata": {},
   "outputs": [
    {
     "name": "stdout",
     "output_type": "stream",
     "text": [
      "(1, 'Fred', 3.14)\n"
     ]
    }
   ],
   "source": [
    "# Workaround to change Tuple values\n",
    "\n",
    "myList = list(myTuple)\n",
    "myList[1] = 'Fred'\n",
    "myTuple = tuple(myList)\n",
    "print(myTuple)"
   ]
  },
  {
   "cell_type": "markdown",
   "id": "3d672c3d-3c79-42d4-993b-ee71efaf11a9",
   "metadata": {},
   "source": [
    "# Sets examples\n"
   ]
  },
  {
   "cell_type": "markdown",
   "id": "9cdd1a51-7772-446e-850a-198fa74a8579",
   "metadata": {},
   "source": [
    "Sets in Python are a collection data type that is mutable, unordered, and consists of unique elements. Here's a detailed breakdown of their characteristics and usage:\n",
    "\n",
    "1. **Unordered**: Sets do not record element position or order of insertion. As a result, sets do not support indexing, slicing, or other sequence-like behavior.\n",
    "2. **Unique Elements**: Each element in a set is distinct. If multiple identical elements are added to a set, they will be filtered out, ensuring that each element is represented once. This uniqueness property makes sets highly useful for eliminating duplicate values from a collection and for performing various set operations like unions, intersections, differences, and symmetric differences.\n",
    "3. **Mutable**: You can add and remove elements from a set after its creation. Python provides a rich set of methods to modify sets, including `add()`, `remove()`, `discard()`, `pop()`, and `clear()`.\n",
    "4. **Syntax**: Sets are defined by enclosing elements in curly braces `{}`, or by using the `set()` constructor to create a set from any iterable. For example, `{1, 2, 3}` or `set([1, 2, 3])`. An empty set must be created with `set()`, as `{}` creates an empty dictionary.\n",
    "5. **Set Operations**: Python sets support mathematical set operations like union (`|`), intersection (`&`), difference (``), and symmetric difference (`^`). These operations can be used to compare sets and perform operations like finding items present in both sets (intersection) or items unique to each set (symmetric difference).\n",
    "6. **Hashable Elements**: Set elements must be immutable; that is, they must be hashable. Numbers, strings, and tuples are examples of hashable objects that can be set elements. Lists and dictionaries, being mutable, cannot be included in a set.\n",
    "7. **Use Cases**: Sets are particularly useful when you need to maintain a collection of unique items, such as for membership testing, removing duplicates from a sequence, and performing mathematical set operations like unions and intersections."
   ]
  },
  {
   "cell_type": "code",
   "execution_count": 46,
   "id": "a991a940-476b-46cd-9516-bd9e95f058c3",
   "metadata": {},
   "outputs": [
    {
     "name": "stdout",
     "output_type": "stream",
     "text": [
      "{1, 2, 3, 4}\n"
     ]
    }
   ],
   "source": [
    "mySet = {1,2,3,4}\n",
    "print(mySet)"
   ]
  },
  {
   "cell_type": "code",
   "execution_count": 47,
   "id": "05a18d7b-ebd0-4936-a3cc-9c0a26d08a9a",
   "metadata": {},
   "outputs": [
    {
     "name": "stdout",
     "output_type": "stream",
     "text": [
      "{1, 2, 3, 4, 5}\n"
     ]
    }
   ],
   "source": [
    "mySet.add(5)\n",
    "print(mySet)"
   ]
  },
  {
   "cell_type": "code",
   "execution_count": 48,
   "id": "e0fa85cd-ac5f-4334-8372-2d102fb6e7b4",
   "metadata": {},
   "outputs": [
    {
     "name": "stdout",
     "output_type": "stream",
     "text": [
      "{1, 2, 4, 5}\n"
     ]
    }
   ],
   "source": [
    "mySet.remove(3)\n",
    "print(mySet)"
   ]
  },
  {
   "cell_type": "markdown",
   "id": "e0603458-6a1a-47f7-bb52-5dbdc816bdc5",
   "metadata": {},
   "source": [
    "## Uniques values in Sets"
   ]
  },
  {
   "cell_type": "code",
   "execution_count": 49,
   "id": "e1d654a6-7a05-4c43-a193-8d075467593e",
   "metadata": {},
   "outputs": [
    {
     "name": "stdout",
     "output_type": "stream",
     "text": [
      "{1, 2, 3, 4, 5, 6}\n"
     ]
    }
   ],
   "source": [
    "set1 = {1,2,3}\n",
    "set2 = {4,5,6}\n",
    "\n",
    "union = set1.union(set2)\n",
    "\n",
    "print(union)"
   ]
  },
  {
   "cell_type": "code",
   "execution_count": 50,
   "id": "f8b47ea1-104d-4a53-b41f-f3f9329df017",
   "metadata": {},
   "outputs": [
    {
     "name": "stdout",
     "output_type": "stream",
     "text": [
      "{1, 2, 3, 4, 5, 6}\n"
     ]
    }
   ],
   "source": [
    "set1 = {1,2,3}\n",
    "set2 = {1,2,4,5,6}\n",
    "union = set1.union(set2)\n",
    "\n",
    "print(union)"
   ]
  },
  {
   "cell_type": "code",
   "execution_count": 51,
   "id": "9a743fe5-451d-4975-8191-bbf9a9af0560",
   "metadata": {},
   "outputs": [
    {
     "name": "stdout",
     "output_type": "stream",
     "text": [
      "{1, 2}\n"
     ]
    }
   ],
   "source": [
    "# Intersection of two sets.\n",
    "set1 = {1,2,3}\n",
    "set2 = {1,2,4,5,6}\n",
    "\n",
    "union = set1.intersection(set2)\n",
    "\n",
    "print(union)\n"
   ]
  },
  {
   "cell_type": "code",
   "execution_count": 52,
   "id": "5af777c0-eecd-49a6-80f4-fba5a66dd7c8",
   "metadata": {},
   "outputs": [
    {
     "name": "stdout",
     "output_type": "stream",
     "text": [
      "{3}\n"
     ]
    }
   ],
   "source": [
    "# Difference in two sets\n",
    "set1 = {1,2,3}\n",
    "set2 = {1,2,4,5,6}\n",
    "\n",
    "union = set1.difference(set2)\n",
    "\n",
    "print(union)"
   ]
  },
  {
   "cell_type": "code",
   "execution_count": 53,
   "id": "a788fec1-103f-4c2f-98a2-c53516e34424",
   "metadata": {},
   "outputs": [
    {
     "name": "stdout",
     "output_type": "stream",
     "text": [
      "1\n",
      "2\n",
      "4\n",
      "5\n",
      "6\n"
     ]
    }
   ],
   "source": [
    "# Traverse items within Sets\n",
    "set1 = {1,2,3}\n",
    "set2 = {1,2,4,5,6}\n",
    "\n",
    "for item in set2:\n",
    "    print(item)\n"
   ]
  },
  {
   "cell_type": "code",
   "execution_count": 54,
   "id": "b6efaebc-0595-446a-98cd-8c046bef2d70",
   "metadata": {},
   "outputs": [
    {
     "name": "stdout",
     "output_type": "stream",
     "text": [
      "Found it!\n"
     ]
    }
   ],
   "source": [
    "# Only look for a specific element\n",
    "if 4 in set2:\n",
    "    print(\"Found it!\")\n",
    "else:\n",
    "    print(\"Did not find it!\")"
   ]
  },
  {
   "cell_type": "markdown",
   "id": "8e06fb09-4617-4b2f-8565-7ddd740173fc",
   "metadata": {},
   "source": [
    "# Dictionary"
   ]
  },
  {
   "cell_type": "markdown",
   "id": "29400a61-6bed-44f1-a9a7-fea537462dfd",
   "metadata": {},
   "source": [
    "Dictionaries in Python are mutable, unordered collections (since Python 3.7, they are considered ordered, as they preserve the insertion order of elements) that store mappings of unique keys to values. Here's a more detailed breakdown:\n",
    "\n",
    "1. **Key-Value Pair**: Each item in a dictionary is stored as a key-value pair. A key acts as a unique identifier for accessing its associated value.\n",
    "2. **Syntax**: A dictionary is defined within curly braces `{}` with keys and values separated by colons `:`. Items are separated by commas. For example: `my_dict = {'key1': 'value1', 'key2': 'value2'}`.\n",
    "3. **Mutable**: Dictionaries can be modified after they have been created. You can add, remove, or change the value of items within the dictionary.\n",
    "4. **Dynamic**: They can grow or shrink as needed, allowing for a very flexible way to store data.\n",
    "5. **Unordered (with a caveat)**: Until Python 3.7, dictionaries were unordered, meaning the order in which items were inserted could not be relied upon when accessing elements. From Python 3.7 onwards, dictionaries remember the order of items inserted, effectively making them ordered collections by insertion order.\n",
    "6. **Keys Must Be Unique**: Each key must be unique within a dictionary. Adding an item with a key that already exists will overwrite the existing value associated with that key.\n",
    "7. **Keys Must Be Immutable**: Only objects that are immutable can be used as keys. This includes types like strings, numbers, and tuples (tuples are immutable if all their elements are immutable as well).\n",
    "8. **Versatile Value Types**: Dictionary values can be of any type: numbers, strings, lists, tuples, dictionaries, or even custom objects, and can differ within the same dictionary.\n",
    "9. **Accessing Elements**: Values are accessed using square brackets `[]` with the key, e.g., `my_dict['key1']`. Trying to access a key that doesn't exist will result in a `KeyError`.\n",
    "10. **Methods and Functions**: Dictionaries come with a variety of methods and functions for common tasks: adding or removing items, merging dictionaries, iterating through keys, values, or key-value pairs, checking for the existence of keys, and more."
   ]
  },
  {
   "cell_type": "code",
   "execution_count": 55,
   "id": "fd28591f-52d7-498a-8e4a-551f4b44aeb1",
   "metadata": {},
   "outputs": [
    {
     "name": "stdout",
     "output_type": "stream",
     "text": [
      "{'brand': 'Jeep', 'model': 'Rubicon', 'year': 1976}\n"
     ]
    }
   ],
   "source": [
    "jeep = {\n",
    "    \"brand\": \"Jeep\",\n",
    "    \"model\": \"Rubicon\",\n",
    "    \"year\": 2014,\n",
    "    \"year\": 1976 # This value would overwrite the previous KVP (Key-Value-Pair)\n",
    "}\n",
    "\n",
    "print(jeep)"
   ]
  },
  {
   "cell_type": "markdown",
   "id": "4d7a58ee-7e86-496e-ab89-2899236796a1",
   "metadata": {},
   "source": [
    "## Config settings example"
   ]
  },
  {
   "cell_type": "code",
   "execution_count": 56,
   "id": "d6b4f5a3-955a-4afa-9002-98490de93b64",
   "metadata": {},
   "outputs": [
    {
     "name": "stdout",
     "output_type": "stream",
     "text": [
      "Screen resolution: (1920, 1080)\n"
     ]
    }
   ],
   "source": [
    "config = {\n",
    "    'screen_resolution': (1920, 1080),\n",
    "    'color_scheme': 'dark',\n",
    "    'file_paths': {\n",
    "        'data_file': '/path/to/data.txt',\n",
    "        'log_file': '/path/to/log.txt'\n",
    "    }\n",
    "}\n",
    "\n",
    "# Accessing configuration items\n",
    "\n",
    "print(\"Screen resolution:\", config['screen_resolution'])"
   ]
  },
  {
   "cell_type": "code",
   "execution_count": 57,
   "id": "74c9a49b-3c55-4e0a-b9f0-e8705e0ab918",
   "metadata": {},
   "outputs": [
    {
     "name": "stdout",
     "output_type": "stream",
     "text": [
      "{'screen_resolution': (1920, 1080), 'color_scheme': 'light', 'file_paths': {'data_file': '/path/to/data.txt', 'log_file': '/path/to/log.txt'}, 'font_size': 16}\n"
     ]
    }
   ],
   "source": [
    "# Adding values to Dictionary\n",
    "\n",
    "config['color_scheme'] = 'light'\n",
    "\n",
    "# Add a element\n",
    "config['font_size'] = 16\n",
    "\n",
    "print(config)"
   ]
  },
  {
   "cell_type": "code",
   "execution_count": 58,
   "id": "36daf6cd-8557-4a39-afa0-afc5b01ff4ba",
   "metadata": {},
   "outputs": [
    {
     "name": "stdout",
     "output_type": "stream",
     "text": [
      "{'screen_resolution': (1920, 1080), 'color_scheme': 'light', 'file_paths': {'log_file': '/path/to/log.txt'}, 'font_size': 16}\n"
     ]
    }
   ],
   "source": [
    "# Remove elements from a Dictionary\n",
    "\n",
    "del config['file_paths']['data_file']\n",
    "print(config)"
   ]
  },
  {
   "cell_type": "markdown",
   "id": "f34bad0f-5c89-429c-a0da-e8b7bf88b363",
   "metadata": {},
   "source": [
    "## Search for elements within a Dictionary"
   ]
  },
  {
   "cell_type": "code",
   "execution_count": 59,
   "id": "351063f6-17f3-44cf-a7d6-bc4d929d8959",
   "metadata": {},
   "outputs": [
    {
     "name": "stdout",
     "output_type": "stream",
     "text": [
      "screen_resolution\n",
      "color_scheme\n",
      "file_paths\n",
      "font_size\n"
     ]
    }
   ],
   "source": [
    "# Loop through the keys in our dictionary\n",
    "for key in config:\n",
    "    print(key)"
   ]
  },
  {
   "cell_type": "code",
   "execution_count": 65,
   "id": "940b7775-2b0c-4d4a-8ddd-5d009198b178",
   "metadata": {},
   "outputs": [
    {
     "name": "stdout",
     "output_type": "stream",
     "text": [
      "(1920, 1080)\n",
      "light\n",
      "{'log_file': '/path/to/log.txt'}\n",
      "16\n"
     ]
    }
   ],
   "source": [
    "for value in config.values():\n",
    "    print(value)"
   ]
  },
  {
   "cell_type": "code",
   "execution_count": 66,
   "id": "00f76c5b-467a-4534-bfab-f8f9c631d3c1",
   "metadata": {},
   "outputs": [
    {
     "name": "stdout",
     "output_type": "stream",
     "text": [
      "screen_resolution: (1920, 1080)\n",
      "color_scheme: light\n",
      "file_paths: {'log_file': '/path/to/log.txt'}\n",
      "font_size: 16\n"
     ]
    }
   ],
   "source": [
    "for key, value in config.items():\n",
    "    print(f\"{key}: {value}\")"
   ]
  },
  {
   "cell_type": "code",
   "execution_count": 69,
   "id": "ee2e3ca8-004e-4d82-92fd-6f53878b3f14",
   "metadata": {},
   "outputs": [
    {
     "name": "stdout",
     "output_type": "stream",
     "text": [
      "Found it!\n"
     ]
    }
   ],
   "source": [
    "# Typical search through a Dictionary\n",
    "if 'light' in config.values():\n",
    "    print(\"Found it!\")\n",
    "else:\n",
    "    print(\"Not found\")"
   ]
  },
  {
   "cell_type": "markdown",
   "id": "4892db3d-4d40-439b-a1a6-65de11d09f33",
   "metadata": {},
   "source": [
    "# Zip Function - Creating a Dictionary from other lists"
   ]
  },
  {
   "cell_type": "markdown",
   "id": "fb7c10a5-5645-408a-956a-7471ec7917b2",
   "metadata": {},
   "source": [
    "The `zip()` function in Python is a built-in function that aggregates elements from two or more iterables (like lists, tuples, or dictionaries) and returns an iterator of tuples, where each tuple contains the elements from the iterables that are in the same position. This function is commonly used for parallel iteration over multiple lists or iterables.\n",
    "\n",
    "Basics of how it works:\n",
    "\n",
    "- **Syntax**: `zip(*iterables)`\n",
    "    - `iterables`: Any number of iterables (e.g., lists, tuples, etc.). The asterisk (``) indicates that the function can take any number of arguments.\n",
    "- **Return Value**: An iterator of tuples, where the i-th tuple contains the i-th element from each of the argument sequences or iterables. The iterator stops when the shortest input iterable is exhausted.\n",
    "- **Usage**: The `zip()` function is used when you need to loop over multiple iterables simultaneously. For example, if you have two lists—one containing names and the other containing ages—and you want to pair each name with its corresponding age, `zip()` makes this task straightforward."
   ]
  },
  {
   "cell_type": "code",
   "execution_count": 71,
   "id": "7b2e2137-52f9-497c-bac6-b44a3973cb83",
   "metadata": {},
   "outputs": [
    {
     "name": "stdout",
     "output_type": "stream",
     "text": [
      "{'name': 'John Doe', 'age': 30, 'city': 'New York'}\n"
     ]
    }
   ],
   "source": [
    "keys = ['name', 'age', 'city']\n",
    "value = ['John Doe', 30, 'New York']\n",
    "\n",
    "# To combine lists into a Dictionary\n",
    "person = dict(zip(keys, value)) # dict is a Python function to create a dictionary.\n",
    "\n",
    "print(person)"
   ]
  },
  {
   "cell_type": "markdown",
   "id": "551b2dee-cb7b-4623-ba40-fbe7ac19b83f",
   "metadata": {},
   "source": [
    "# Comprehension"
   ]
  },
  {
   "cell_type": "markdown",
   "id": "e1dac4c3-faad-4f35-a69e-9641de53ffe8",
   "metadata": {},
   "source": [
    "Python comprehensions provide a concise way to create lists, dictionaries, sets, and generators. They offer a more syntactically compact and often more readable way to create these data structures compared to traditional loops and function calls. "
   ]
  },
  {
   "cell_type": "code",
   "execution_count": 73,
   "id": "a743c014-4aab-4720-a98e-09ce62c92b62",
   "metadata": {},
   "outputs": [
    {
     "name": "stdout",
     "output_type": "stream",
     "text": [
      "Jeep\n",
      "F350\n",
      "Ram\n"
     ]
    }
   ],
   "source": [
    "cars = ['Jeep', 'F350', 'Ram']\n",
    "\n",
    "for vehicle in cars:\n",
    "    print(vehicle)"
   ]
  },
  {
   "cell_type": "code",
   "execution_count": 75,
   "id": "939d0037-3280-4311-93b4-337a10bd1b40",
   "metadata": {},
   "outputs": [
    {
     "name": "stdout",
     "output_type": "stream",
     "text": [
      "Jeep\n",
      "F350\n",
      "Ram\n"
     ]
    },
    {
     "data": {
      "text/plain": [
       "[None, None, None]"
      ]
     },
     "execution_count": 75,
     "metadata": {},
     "output_type": "execute_result"
    }
   ],
   "source": [
    "# Accomplish the same search with comprehension\n",
    "[print(vehicles) for vehicles in cars]"
   ]
  },
  {
   "cell_type": "code",
   "execution_count": null,
   "id": "c96eeb7d-b103-4c01-95cb-ed024d67e865",
   "metadata": {},
   "outputs": [],
   "source": []
  }
 ],
 "metadata": {
  "kernelspec": {
   "display_name": "Python 3 (ipykernel)",
   "language": "python",
   "name": "python3"
  },
  "language_info": {
   "codemirror_mode": {
    "name": "ipython",
    "version": 3
   },
   "file_extension": ".py",
   "mimetype": "text/x-python",
   "name": "python",
   "nbconvert_exporter": "python",
   "pygments_lexer": "ipython3",
   "version": "3.12.4"
  }
 },
 "nbformat": 4,
 "nbformat_minor": 5
}
