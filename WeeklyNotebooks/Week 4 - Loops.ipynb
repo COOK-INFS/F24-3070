{
 "cells": [
  {
   "cell_type": "markdown",
   "id": "dcd91f7d-2e19-450c-ba78-7d03d92f2382",
   "metadata": {},
   "source": [
    "# While loop examples"
   ]
  },
  {
   "cell_type": "code",
   "execution_count": 1,
   "id": "baa5645a-458f-4616-a6ed-e4b7dee34440",
   "metadata": {},
   "outputs": [
    {
     "name": "stdout",
     "output_type": "stream",
     "text": [
      "1\n",
      "2\n",
      "3\n",
      "4\n",
      "5\n",
      "6\n",
      "7\n",
      "8\n",
      "9\n",
      "10\n"
     ]
    }
   ],
   "source": [
    "x = 1\n",
    "\n",
    "while x < 11:\n",
    "    print(x)\n",
    "    x += 1"
   ]
  },
  {
   "cell_type": "markdown",
   "id": "53cea8cf-221d-4786-b182-e67af3d21861",
   "metadata": {},
   "source": [
    "## Break statement"
   ]
  },
  {
   "cell_type": "code",
   "execution_count": 3,
   "id": "abf2122b-07ee-4c22-a765-02e8366627cd",
   "metadata": {},
   "outputs": [
    {
     "name": "stdout",
     "output_type": "stream",
     "text": [
      "1\n",
      "2\n",
      "3\n",
      "4\n",
      "5\n"
     ]
    }
   ],
   "source": [
    "x = 1\n",
    "while x < 11:\n",
    "    print(x)\n",
    "    if x == 5:\n",
    "        break\n",
    "    x += 1"
   ]
  },
  {
   "cell_type": "markdown",
   "id": "9adb783f-277b-452f-98dd-9f899eaf8644",
   "metadata": {},
   "source": [
    "## Continue"
   ]
  },
  {
   "cell_type": "code",
   "execution_count": 4,
   "id": "6e644258-867e-4cbf-938a-bc392481ef38",
   "metadata": {},
   "outputs": [
    {
     "name": "stdout",
     "output_type": "stream",
     "text": [
      "2\n",
      "3\n",
      "4\n",
      "6\n",
      "7\n",
      "8\n",
      "9\n",
      "10\n",
      "11\n"
     ]
    }
   ],
   "source": [
    "x = 1\n",
    "while x < 11:\n",
    "    x += 1\n",
    "    if x == 5:\n",
    "        continue\n",
    "    print(x)"
   ]
  },
  {
   "cell_type": "markdown",
   "id": "bda224ff-6bbd-4b45-a0ec-60d9fa23a777",
   "metadata": {},
   "source": [
    "## Payroll example"
   ]
  },
  {
   "cell_type": "code",
   "execution_count": 6,
   "id": "a5ca4311-87d2-4a18-afa0-9752f8566536",
   "metadata": {},
   "outputs": [
    {
     "name": "stdin",
     "output_type": "stream",
     "text": [
      "Enter the number of hours worked:  \n"
     ]
    },
    {
     "name": "stdout",
     "output_type": "stream",
     "text": [
      "You did not enter your hours.\n"
     ]
    },
    {
     "name": "stdin",
     "output_type": "stream",
     "text": [
      "Please enter your hours:  \n"
     ]
    },
    {
     "name": "stdout",
     "output_type": "stream",
     "text": [
      "You did not enter your hours.\n"
     ]
    },
    {
     "name": "stdin",
     "output_type": "stream",
     "text": [
      "Please enter your hours:  \n"
     ]
    },
    {
     "name": "stdout",
     "output_type": "stream",
     "text": [
      "You did not enter your hours.\n"
     ]
    },
    {
     "name": "stdin",
     "output_type": "stream",
     "text": [
      "Please enter your hours:  \n"
     ]
    },
    {
     "name": "stdout",
     "output_type": "stream",
     "text": [
      "You did not enter your hours.\n"
     ]
    },
    {
     "name": "stdin",
     "output_type": "stream",
     "text": [
      "Please enter your hours:  \n"
     ]
    },
    {
     "name": "stdout",
     "output_type": "stream",
     "text": [
      "You did not enter your hours.\n"
     ]
    },
    {
     "name": "stdin",
     "output_type": "stream",
     "text": [
      "Please enter your hours:  40\n"
     ]
    },
    {
     "name": "stdout",
     "output_type": "stream",
     "text": [
      "You worked 40 hours this week.\n"
     ]
    }
   ],
   "source": [
    "hoursWorked = input(\"Enter the number of hours worked: \")\n",
    "\n",
    "while hoursWorked == \"\":\n",
    "    print(\"You did not enter your hours.\")\n",
    "    hoursWorked = input(\"Please enter your hours: \")\n",
    "else:\n",
    "    print(f\"You worked {hoursWorked} hours this week.\")\n"
   ]
  },
  {
   "cell_type": "markdown",
   "id": "25010978-1002-4b9c-8317-c43f6bbde401",
   "metadata": {},
   "source": [
    "# For loop examples"
   ]
  },
  {
   "cell_type": "code",
   "execution_count": 7,
   "id": "f717e297-4293-425f-817e-047dcd4b22e4",
   "metadata": {},
   "outputs": [
    {
     "name": "stdout",
     "output_type": "stream",
     "text": [
      "1\n",
      "4\n",
      "9\n",
      "16\n",
      "25\n"
     ]
    }
   ],
   "source": [
    "for index in range(1, 6): # Remember that 6 is a range and non-inclusive.\n",
    "    print(index * index)"
   ]
  },
  {
   "cell_type": "code",
   "execution_count": 8,
   "id": "3576b709-6709-4f6d-9a96-f39a164b0c36",
   "metadata": {},
   "outputs": [
    {
     "name": "stdout",
     "output_type": "stream",
     "text": [
      "1\n",
      "4\n",
      "9\n",
      "16\n",
      "25\n"
     ]
    }
   ],
   "source": [
    "for i in range (1, 6):\n",
    "    print( i * i)"
   ]
  },
  {
   "cell_type": "code",
   "execution_count": 9,
   "id": "19c9c7ca-7356-41fc-8f7b-ab189c86885c",
   "metadata": {},
   "outputs": [
    {
     "name": "stdout",
     "output_type": "stream",
     "text": [
      "1\n",
      "2\n",
      "3\n",
      "4\n",
      "5\n",
      "6\n",
      "7\n",
      "8\n",
      "9\n",
      "10\n",
      "Happy Birthday!\n"
     ]
    }
   ],
   "source": [
    "for i in range(1, 11):\n",
    "    print(i)\n",
    "print(\"Happy Birthday!\")"
   ]
  },
  {
   "cell_type": "code",
   "execution_count": 11,
   "id": "adf7ab29-d762-4c57-80d9-46cbd894d6e4",
   "metadata": {},
   "outputs": [
    {
     "name": "stdout",
     "output_type": "stream",
     "text": [
      "10\n",
      "9\n",
      "8\n",
      "7\n",
      "6\n",
      "5\n",
      "4\n",
      "3\n",
      "2\n",
      "1\n",
      "Kaboom!\n"
     ]
    }
   ],
   "source": [
    "# Reverse the loop\n",
    "for i in reversed(range(1, 11)):\n",
    "    print(i)\n",
    "print(\"Kaboom!\")"
   ]
  },
  {
   "cell_type": "code",
   "execution_count": 12,
   "id": "5079c94b-1aa9-40dc-9d9e-9289e5cbf2cf",
   "metadata": {},
   "outputs": [
    {
     "name": "stdout",
     "output_type": "stream",
     "text": [
      "1\n",
      "3\n",
      "5\n",
      "7\n",
      "9\n",
      "yes.\n"
     ]
    }
   ],
   "source": [
    "# Count by specific intervals\n",
    "for i in range(1, 11, 2):\n",
    "    print(i)\n",
    "print(\"yes.\")"
   ]
  },
  {
   "cell_type": "markdown",
   "id": "61c4eae9-3773-444b-8b35-5fb6ac3580d0",
   "metadata": {},
   "source": [
    "## Looping through interations\n",
    "Within a FOR loop, you can control the flow with 'break', 'continue', and 'else' but not if the loop exited through a break."
   ]
  },
  {
   "cell_type": "code",
   "execution_count": 15,
   "id": "b1a9d2fa-c99f-4d67-9ea0-ac20c49db3ab",
   "metadata": {},
   "outputs": [
    {
     "name": "stdout",
     "output_type": "stream",
     "text": [
      "11\n",
      "24\n",
      "3\n",
      "4\n",
      "Number 5 found, stopping the loop.\n"
     ]
    }
   ],
   "source": [
    "numbers = [11, 24, 3, 4, 5, 66, 7, 8, 9, 10]\n",
    "\n",
    "for number in numbers:\n",
    "    if number == 5:\n",
    "        print(\"Number 5 found, stopping the loop.\")\n",
    "        break\n",
    "    print(number)"
   ]
  },
  {
   "cell_type": "code",
   "execution_count": 14,
   "id": "d1293ab9-0edf-4d09-8cf1-359eac63bc22",
   "metadata": {},
   "outputs": [
    {
     "name": "stdout",
     "output_type": "stream",
     "text": [
      "1\n",
      "2\n",
      "3\n",
      "4\n",
      "5\n",
      "6\n",
      "7\n",
      "8\n",
      "9\n",
      "10\n",
      "11\n",
      "12\n",
      "14\n",
      "15\n",
      "16\n",
      "17\n",
      "18\n",
      "19\n",
      "20\n"
     ]
    }
   ],
   "source": [
    "# Example of the continue reserved word\n",
    "\n",
    "for i in range(1, 21):\n",
    "    if i == 13:\n",
    "        continue\n",
    "    else:\n",
    "        print(i)"
   ]
  },
  {
   "cell_type": "markdown",
   "id": "7328c3f9-7c5a-4b36-80e2-54088e4e9ae4",
   "metadata": {},
   "source": [
    "# Nested Loops"
   ]
  },
  {
   "cell_type": "code",
   "execution_count": 16,
   "id": "30f27437-d231-4ae2-a3ce-4de10971d392",
   "metadata": {},
   "outputs": [
    {
     "name": "stdout",
     "output_type": "stream",
     "text": [
      "1\n",
      "2\n",
      "3\n",
      "4\n",
      "5\n",
      "6\n",
      "7\n",
      "8\n",
      "9\n"
     ]
    }
   ],
   "source": [
    "matrix = [[1, 2, 3], [4, 5, 6], [7, 8, 9]]\n",
    "\n",
    "for row in matrix:\n",
    "    for element in row:\n",
    "        print(element)"
   ]
  },
  {
   "cell_type": "markdown",
   "id": "ad694b81-dc7d-4ee5-84c6-813da31e85cd",
   "metadata": {},
   "source": [
    "# List examples"
   ]
  },
  {
   "cell_type": "code",
   "execution_count": 17,
   "id": "ef4c2f97-58f8-4b64-b476-1ebb7c4f24a3",
   "metadata": {},
   "outputs": [
    {
     "name": "stdout",
     "output_type": "stream",
     "text": [
      "Jeep\n"
     ]
    }
   ],
   "source": [
    "vehicles = ['F350', 'Jeep', 'Ram', 'Motorcycle']\n",
    "\n",
    "print(vehicles[1])"
   ]
  },
  {
   "cell_type": "code",
   "execution_count": 19,
   "id": "141488cd-996d-4ed6-a958-6b4c041f3864",
   "metadata": {},
   "outputs": [
    {
     "name": "stdout",
     "output_type": "stream",
     "text": [
      "['F350', 'Jeep', 'Ram', 'Motorcycle']\n"
     ]
    }
   ],
   "source": [
    "print(vehicles)"
   ]
  },
  {
   "cell_type": "code",
   "execution_count": 20,
   "id": "b175b8f7-429b-4e8c-a608-91299e889258",
   "metadata": {},
   "outputs": [
    {
     "name": "stdout",
     "output_type": "stream",
     "text": [
      "F350\n",
      "Jeep\n",
      "Ram\n",
      "Motorcycle\n"
     ]
    }
   ],
   "source": [
    "for transportation in vehicles:\n",
    "    print(transportation)"
   ]
  },
  {
   "cell_type": "markdown",
   "id": "27d03e3c-1d37-4081-9353-61580782e5f1",
   "metadata": {},
   "source": [
    "# Book programming challenge\n",
    "At one college, the tuition for a full-time student is $8,000 per semester. Tuition will be increasing by 3 percent each year for the next 5 years.\n",
    "\n",
    "Write a program that displays the projected semester tuition amount for the next 5 years."
   ]
  },
  {
   "cell_type": "code",
   "execution_count": 27,
   "id": "c91ff926-3411-40a5-b8ad-9d5810cba8bb",
   "metadata": {},
   "outputs": [
    {
     "name": "stdout",
     "output_type": "stream",
     "text": [
      "In 1 year, the tuition will be $8240.00.\n",
      "In 2 years, the tuition will be $8487.20.\n",
      "In 3 years, the tuition will be $8741.82.\n",
      "In 4 years, the tuition will be $9004.07.\n",
      "In 5 years, the tuition will be $9274.19.\n"
     ]
    }
   ],
   "source": [
    "tuition = 8000.0\n",
    "\n",
    "for index in range(1, 6):\n",
    "    tuition *= 1.03\n",
    "    if index == 1:\n",
    "        print(f\"In 1 year, the tuition will be ${tuition:.2f}.\")\n",
    "    else:\n",
    "        print(f\"In {index} years, the tuition will be ${tuition:.2f}.\")"
   ]
  },
  {
   "cell_type": "code",
   "execution_count": null,
   "id": "b4b931d5-c02c-4a1b-9147-77f8fda31637",
   "metadata": {},
   "outputs": [],
   "source": []
  }
 ],
 "metadata": {
  "kernelspec": {
   "display_name": "Python 3 (ipykernel)",
   "language": "python",
   "name": "python3"
  },
  "language_info": {
   "codemirror_mode": {
    "name": "ipython",
    "version": 3
   },
   "file_extension": ".py",
   "mimetype": "text/x-python",
   "name": "python",
   "nbconvert_exporter": "python",
   "pygments_lexer": "ipython3",
   "version": "3.12.4"
  }
 },
 "nbformat": 4,
 "nbformat_minor": 5
}
