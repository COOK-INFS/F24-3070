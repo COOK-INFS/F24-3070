{
 "cells": [
  {
   "cell_type": "code",
   "execution_count": 1,
   "metadata": {},
   "outputs": [
    {
     "name": "stdout",
     "output_type": "stream",
     "text": [
      "Hello World\n"
     ]
    }
   ],
   "source": [
    "myString = \"Hello World\"\n",
    "print(myString)"
   ]
  },
  {
   "cell_type": "markdown",
   "metadata": {},
   "source": [
    "### Retrieve a specific index location"
   ]
  },
  {
   "cell_type": "code",
   "execution_count": 2,
   "metadata": {},
   "outputs": [
    {
     "name": "stdout",
     "output_type": "stream",
     "text": [
      "l\n"
     ]
    }
   ],
   "source": [
    "myString = \"Hello World\"\n",
    "print(myString[3])"
   ]
  },
  {
   "cell_type": "code",
   "execution_count": 3,
   "metadata": {},
   "outputs": [],
   "source": [
    "# Retrieve a slice of a String"
   ]
  },
  {
   "cell_type": "code",
   "execution_count": 4,
   "metadata": {},
   "outputs": [
    {
     "name": "stdout",
     "output_type": "stream",
     "text": [
      "Hello\n"
     ]
    }
   ],
   "source": [
    "print(myString[0:5])"
   ]
  },
  {
   "cell_type": "markdown",
   "metadata": {},
   "source": [
    "## Example of String immutability"
   ]
  },
  {
   "cell_type": "code",
   "execution_count": 6,
   "metadata": {},
   "outputs": [
    {
     "name": "stdout",
     "output_type": "stream",
     "text": [
      "Memory location of 'string1' before change: 2386183471344\n",
      "Memory location of 'string2' before change: 2386182943680\n",
      "Memory location of 'string1' after change: 2386182943680\n",
      "Memory location of 'string2' after change: 2386182943680\n"
     ]
    }
   ],
   "source": [
    "# Initial Strings\n",
    "string1 = \"Bob\"\n",
    "string2 = \"Mary\"\n",
    "\n",
    "# Memmory location of the Strings before changes\n",
    "memory_before_string1 = id(string1)\n",
    "memory_before_string2 = id(string2)\n",
    "\n",
    "# Change string1 to \"Mary\"\n",
    "string1 = \"Mary\"\n",
    "\n",
    "# Memory location of the Strings after changes\n",
    "memory_after_string1 = id(string1)\n",
    "memory_after_string2 = id(string2)\n",
    "\n",
    "# Output the memory locations\n",
    "print(f\"Memory location of 'string1' before change: {memory_before_string1}\")\n",
    "print(f\"Memory location of 'string2' before change: {memory_before_string2}\")\n",
    "print(f\"Memory location of 'string1' after change: {memory_after_string1}\")\n",
    "print(f\"Memory location of 'string2' after change: {memory_after_string2}\")"
   ]
  },
  {
   "cell_type": "markdown",
   "metadata": {},
   "source": [
    "# Formatting Strings"
   ]
  },
  {
   "cell_type": "code",
   "execution_count": 11,
   "metadata": {},
   "outputs": [
    {
     "name": "stdout",
     "output_type": "stream",
     "text": [
      "Hello, Alice. You are 30 years old.\n",
      "Hello Alice. You are 30 years old.\n",
      "Hello, Alice. You are 30 years old.\n"
     ]
    }
   ],
   "source": [
    "name = \"Alice\"\n",
    "age = 30\n",
    "\n",
    "# Format a String by concatenating elements together\n",
    "greeting = \"Hello, \" + name + \". You are \" + str(age) + \" years old.\"\n",
    "\n",
    "# Format a String using the .format method call\n",
    "greeting2 = \"Hello {}. You are {} years old.\".format(name, age)\n",
    "\n",
    "# Format a String using a 'f' string.\n",
    "greeting3 = f\"Hello, {name}. You are {age} years old.\"\n",
    "\n",
    "print(greeting)\n",
    "print(greeting2)\n",
    "print(greeting3)"
   ]
  },
  {
   "cell_type": "markdown",
   "metadata": {},
   "source": [
    "# Escaping characters"
   ]
  },
  {
   "cell_type": "code",
   "execution_count": 13,
   "metadata": {},
   "outputs": [
    {
     "name": "stdout",
     "output_type": "stream",
     "text": [
      "I am a \"goof\", no doubt about it.\n"
     ]
    }
   ],
   "source": [
    "# Example of escaping characters so the quotes will work.\n",
    "escapEx = \"I am a \\\"goof\\\", no doubt about it.\"\n",
    "\n",
    "print(escapEx)"
   ]
  },
  {
   "cell_type": "code",
   "execution_count": 16,
   "metadata": {},
   "outputs": [
    {
     "name": "stdout",
     "output_type": "stream",
     "text": [
      "This is line 1. \n",
      "This is line 2.\n"
     ]
    }
   ],
   "source": [
    "# Example of newline escape character\n",
    "escapEx = \"This is line 1. \\nThis is line 2.\"\n",
    "\n",
    "print(escapEx)"
   ]
  },
  {
   "cell_type": "code",
   "execution_count": 17,
   "metadata": {},
   "outputs": [
    {
     "name": "stdout",
     "output_type": "stream",
     "text": [
      "This is line 2. \n"
     ]
    }
   ],
   "source": [
    "# Example of a carriage return\n",
    "escapEx = \"This is line 1. \\rThis is line 2.\"\n",
    "\n",
    "print(escapEx)"
   ]
  },
  {
   "cell_type": "markdown",
   "metadata": {},
   "source": [
    "# Search in a String"
   ]
  },
  {
   "cell_type": "code",
   "execution_count": 18,
   "metadata": {},
   "outputs": [
    {
     "name": "stdout",
     "output_type": "stream",
     "text": [
      "7\n"
     ]
    }
   ],
   "source": [
    "my_String = \"Hello, World!\"\n",
    "\n",
    "# Searching\n",
    "index = my_String.find(\"World\")\n",
    "\n",
    "print(index)"
   ]
  },
  {
   "cell_type": "code",
   "execution_count": 19,
   "metadata": {},
   "outputs": [
    {
     "name": "stdout",
     "output_type": "stream",
     "text": [
      "True\n"
     ]
    }
   ],
   "source": [
    "# Search using the 'in' method\n",
    "result = \"World\" in my_String\n",
    "\n",
    "print(result)"
   ]
  },
  {
   "cell_type": "markdown",
   "metadata": {},
   "source": [
    "# Working with Files"
   ]
  },
  {
   "cell_type": "code",
   "execution_count": 35,
   "metadata": {},
   "outputs": [],
   "source": [
    "# Writing to a file\n",
    "\n",
    "f = open(\"readFileExample.txt\", \"w\")\n",
    "f.write(\"Whoops! Again!\")\n",
    "\n",
    "# Very important to close the connection before the write will occur.\n",
    "f.close()"
   ]
  },
  {
   "cell_type": "code",
   "execution_count": 36,
   "metadata": {},
   "outputs": [],
   "source": [
    "f = open(\"readFileExample.txt\", \"w\")\n",
    "f.write(\"Here we go again!\")\n",
    "\n",
    "f.close()"
   ]
  },
  {
   "cell_type": "markdown",
   "metadata": {},
   "source": [
    "### Append to file"
   ]
  },
  {
   "cell_type": "code",
   "execution_count": 38,
   "metadata": {},
   "outputs": [
    {
     "name": "stdout",
     "output_type": "stream",
     "text": [
      "Here we go again!I hope this adds more stuff!I hope this adds more stuff!\n"
     ]
    }
   ],
   "source": [
    "f = open(\"readFileExample.txt\", \"a\")\n",
    "f.write(\"I hope this adds more stuff!\")\n",
    "f.close()\n",
    "\n",
    "f = open(\"readFileExample.txt\", \"r\")\n",
    "print(f.read())"
   ]
  },
  {
   "cell_type": "markdown",
   "metadata": {},
   "source": [
    "### Handling errors"
   ]
  },
  {
   "cell_type": "code",
   "execution_count": 45,
   "metadata": {},
   "outputs": [
    {
     "name": "stdout",
     "output_type": "stream",
     "text": [
      "That file was not found.\n"
     ]
    }
   ],
   "source": [
    "# Open a file using the with method\n",
    "try:\n",
    "    with open (\"readFileExampl.txt\", 'r') as f: #purposely misspelled file to generate error.\n",
    "        print(f.read())\n",
    "except FileNotFoundError:\n",
    "    print(\"That file was not found.\")\n"
   ]
  },
  {
   "cell_type": "markdown",
   "metadata": {},
   "source": [
    "# Config file example"
   ]
  },
  {
   "cell_type": "code",
   "execution_count": 51,
   "metadata": {},
   "outputs": [
    {
     "name": "stdout",
     "output_type": "stream",
     "text": [
      "The setting is: blinky\n"
     ]
    }
   ],
   "source": [
    "# Search for a parameter\n",
    "searchItem = 'blinky'\n",
    "\n",
    "# Open the file in read mode:\n",
    "with open(\"config.txt\", 'r') as f:\n",
    "    lines = f.readlines() # Reads all of the lines in the file\n",
    "\n",
    "# Search for the user or program input item.\n",
    "for line in lines:\n",
    "    if searchItem in line:\n",
    "        _, searchItem = line.split(\"=\", 1) # Ignores the values left of the '=' and assign to '_'\n",
    "        searchItem = searchItem.strip()\n",
    "        break\n",
    "\n",
    "# Display our results or lack thereof\n",
    "if searchItem:\n",
    "    print(f\"The setting is: {searchItem}\")\n",
    "else:\n",
    "    print(\"The setting was not found.\")"
   ]
  },
  {
   "cell_type": "code",
   "execution_count": 53,
   "metadata": {},
   "outputs": [
    {
     "name": "stdout",
     "output_type": "stream",
     "text": [
      "The setting is: 12\n"
     ]
    }
   ],
   "source": [
    "import configparser\n",
    "\n",
    "from configparser import ConfigParser\n",
    "\n",
    "\n",
    "section='Settings'\n",
    "configItem='fontSize'\n",
    "\n",
    "# Initialize the parser\n",
    "config = ConfigParser()\n",
    "\n",
    "# Read in the config file\n",
    "config.read('config.txt')\n",
    "\n",
    "# Find the setting\n",
    "theme = config.get(section, configItem)\n",
    "\n",
    "print(f\"The setting is: {theme}\")"
   ]
  }
 ],
 "metadata": {
  "kernelspec": {
   "display_name": "Python 3 (ipykernel)",
   "language": "python",
   "name": "python3"
  },
  "language_info": {
   "codemirror_mode": {
    "name": "ipython",
    "version": 3
   },
   "file_extension": ".py",
   "mimetype": "text/x-python",
   "name": "python",
   "nbconvert_exporter": "python",
   "pygments_lexer": "ipython3",
   "version": "3.12.4"
  }
 },
 "nbformat": 4,
 "nbformat_minor": 2
}
