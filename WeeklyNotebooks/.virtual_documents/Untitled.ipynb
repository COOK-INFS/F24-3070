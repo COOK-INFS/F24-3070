print("Hello World")





hoursWorked = 23
payRate = 20

c = a*b

print(c)



