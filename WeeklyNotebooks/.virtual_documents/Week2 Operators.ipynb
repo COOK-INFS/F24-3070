print("Hello World")





hoursWorked = 24
payRate = 20

c = hoursWorked*payRate

print(c)





name = "Bob Cook"
print(name)


x = 5
x += 3
print(x)


x = 5
x -= 2
print(x)


x = 5
x *= 3
print(x)


x = 10
x /= 3
print(x)


x = 10
x %= 3
print(x)


x = 10
x **=3
print(x)


x = 10
x //=3
print(x)


x = 17
y = 3
print(x//y)


x = 17
y = 3
print (x/y)





x = 5
y = 3
print(x+y)


x = 5
y = 3
print(x-y)


x = 5
y = 3
print (x*y)



x = 10
y = 2
print (x/y)


x = 10
y = 3
print (x % y)





x = 10
y = 3
print(x==y)


X = 10
y = 3
print(x != y)


x = 10
y = 3
print(x>y)


x = 10
y = 3
print (x<y)


x = 10
y = 3
print (x>=y)





x = 10
print (x>2 and x<11)


x = 10
print (x > 2 or x < 9)


x = 10
print(not(x > 2 and x <11))





x = ['truck', 'car', 'suv']
print('truck' in x)


x = ['truck', 'car', 'suv']
print('truck' not in x)








x = 5
print(type(x))


x = 5.5
print(type(x))


x = 5*1j
print(type(x))





x = '''Hello 
Bob'''
print(x)


x = "Hello Bob"
print(x[4:7])


x = "Bob"
y = " Cook"
print(x+y)


x = "Hello Bob"
print(x.upper())


x = 'Hello Bob'
print(x.lower())


x = "Hello Bob, this is \"awesome\""
print(x)





x = 10
y = 5
print(x<y)


''' I'm using a conditional to figure out
whether x is greater than y. '''

x = 10
y = 55
if x > y: # This condition must return TRUE for the first line of code below to run.
    print ("x is greater than y")
else: # This line of code will only run if the first condition returns FALSE.
    print("Y is greater than x")



