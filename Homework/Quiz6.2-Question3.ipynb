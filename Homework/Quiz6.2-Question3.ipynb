{
 "cells": [
  {
   "cell_type": "markdown",
   "metadata": {},
   "source": [
    "### Quiz 6.2: Question 3\n",
    "\n",
    "**Assignment**: A file named grade.txt contains the list of grades of a computer science course. Each line is a single integer value.\n",
    "\n",
    "Write a program that creates the following files:\n",
    "\n",
    "- txt containing the grades less than 6;\n",
    "- txt containing the grades greater than or equal to 6;\n",
    "- txt containing the percentage of students that have passed the course, rounded to 2 decimal digits."
   ]
  },
  {
   "cell_type": "code",
   "execution_count": 2,
   "metadata": {},
   "outputs": [],
   "source": [
    "# Open the existing 'grade.txt' file in read mode to read the data.\n",
    "file = open(\"Homework/grade.txt\", \"r\")\n",
    "\n",
    "# Create the three required files by opening them in write mode.\n",
    "failing = open(\"Homework/failing.txt\", \"w\")\n",
    "passing = open(\"Homework/passing.txt\", \"w\")\n",
    "statistics = open(\"Homework/statistics.txt\", \"w\")\n",
    "\n",
    "# Initialize values to zero.\n",
    "total = 0\n",
    "total_passing = 0\n",
    "\n",
    "# Use the 'readline' function to read the first line in the 'grade.txt' file.\n",
    "# From Chapter 6.1, Program 6-3.\n",
    "line = file.readline()\n",
    "\n",
    "# Loop through each line in the file.\n",
    "# Use a conditional within the while loop \n",
    "while line != \"\":\n",
    "    grade = int(line) # Casts the value of the line variable to an int.\n",
    "    if grade < 6: # If the grade is less than 6, the grade is failing.\n",
    "        failing.write(f\"{grade}\\n\")\n",
    "    else: # If the grade is not below 6, it is passing.\n",
    "        passing.write(f\"{grade}\\n\")\n",
    "        total_passing += 1 # Increment the 'total_passing' variable to use in stats.\n",
    "    total += 1 # Increment the total record count to use in stats.\n",
    "    line = file.readline()\n",
    "\n",
    "statistics.write(f\"{(total_passing * 100 / total):.2f}\") # Calculate percentage and round it to 2 decimals.\n",
    "\n",
    "file.close()\n",
    "failing.close()\n",
    "passing.close()\n",
    "statistics.close()\n"
   ]
  }
 ],
 "metadata": {
  "kernelspec": {
   "display_name": "Python 3 (ipykernel)",
   "language": "python",
   "name": "python3"
  },
  "language_info": {
   "codemirror_mode": {
    "name": "ipython",
    "version": 3
   },
   "file_extension": ".py",
   "mimetype": "text/x-python",
   "name": "python",
   "nbconvert_exporter": "python",
   "pygments_lexer": "ipython3",
   "version": "3.12.4"
  }
 },
 "nbformat": 4,
 "nbformat_minor": 2
}
