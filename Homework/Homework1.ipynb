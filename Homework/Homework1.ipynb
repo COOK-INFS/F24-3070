{
 "cells": [
  {
   "cell_type": "code",
   "execution_count": 2,
   "id": "c581de1f-7916-464f-bf73-d16a6a5f729b",
   "metadata": {},
   "outputs": [
    {
     "name": "stdin",
     "output_type": "stream",
     "text": [
      "Enter your current temperature in Fahrenheit:  85\n"
     ]
    },
    {
     "name": "stdout",
     "output_type": "stream",
     "text": [
      "It is hot outside.\n"
     ]
    }
   ],
   "source": [
    "# Weather Forecast\n",
    "\n",
    "# Get the current temperature in Fahrenheit from the user\n",
    "temp_fahrenheit = float(input(\"Enter your current temperature in Fahrenheit: \"))\n",
    "\n",
    "# Initialize a variable to store the result\n",
    "result = \"\"\n",
    "\n",
    "# Check the temperature and set the result\n",
    "if temp_fahrenheit >= 85:\n",
    "    result = \"hot\"\n",
    "elif temp_fahrenheit >= 60 and temp_fahrenheit < 85:\n",
    "    result = \"warm\"\n",
    "else:\n",
    "    result = \"cold\"\n",
    "\n",
    "# Print the result\n",
    "print(f\"It is {result} outside.\")"
   ]
  },
  {
   "cell_type": "code",
   "execution_count": null,
   "id": "55298601-77c1-4183-ad89-26ac760c0fa5",
   "metadata": {},
   "outputs": [],
   "source": []
  }
 ],
 "metadata": {
  "kernelspec": {
   "display_name": "Python 3 (ipykernel)",
   "language": "python",
   "name": "python3"
  },
  "language_info": {
   "codemirror_mode": {
    "name": "ipython",
    "version": 3
   },
   "file_extension": ".py",
   "mimetype": "text/x-python",
   "name": "python",
   "nbconvert_exporter": "python",
   "pygments_lexer": "ipython3",
   "version": "3.12.4"
  }
 },
 "nbformat": 4,
 "nbformat_minor": 5
}
