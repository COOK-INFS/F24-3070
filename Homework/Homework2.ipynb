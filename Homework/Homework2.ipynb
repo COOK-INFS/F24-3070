{
 "cells": [
  {
   "cell_type": "markdown",
   "id": "f9ffc7ca-adb9-4916-9c12-fe2433df3bff",
   "metadata": {},
   "source": [
    "### **Problem Statement:**\n",
    "\n",
    "You are a shopkeeper who keeps a record of the products you sell. Your job is to write a Python\n",
    "script to keep track of the products and their prices.\n",
    "\n",
    "### **Requirements:**\n",
    "\n",
    "1. Create a list named \"*products*\" to store the names of 5 products.\n",
    "    1. Hammers\n",
    "    2. Shovels\n",
    "    3. Picks\n",
    "    4. Buckets\n",
    "    5. Rope\n",
    "2. Create another list named \"*prices*\" to store the prices of the 5 products in the same order as the products list.\n",
    "    1. 11.50\n",
    "    2. 25.00\n",
    "    3. 13.45\n",
    "    4. 2.95\n",
    "    5. 9.99\n",
    "3. Use the zip function to create a dictionary named \"*product_prices*\" that maps the product names to their prices.\n",
    "4. Use a for loop to print the names and prices of all products.\n",
    "    1. (*ex:* Hammers: $11.50)\n",
    "\n",
    "### **Submission:**\n",
    "\n",
    "Please submit a single JupyterNotebook file named \"*homework2.ipynb*\" that implements the above-mentioned requirements."
   ]
  },
  {
   "cell_type": "code",
   "execution_count": 1,
   "id": "f727dda5-d13b-40bc-9f51-b46f36d93a6d",
   "metadata": {},
   "outputs": [
    {
     "name": "stdout",
     "output_type": "stream",
     "text": [
      "Hammers: $11.50\n",
      "Shovels: $25.00\n",
      "Picks: $13.45\n",
      "Buckets: $2.95\n",
      "Rope: $9.99\n"
     ]
    }
   ],
   "source": [
    "# Define the lists of products and prices\n",
    "products = [\"Hammers\", \"Shovels\", \"Picks\", \"Buckets\", \"Rope\"]\n",
    "prices = [11.50, 25.00, 13.45, 2.95, 9.99]\n",
    "\n",
    "# Use zip to create a dictionary mapping product names to prices\n",
    "product_prices = dict(zip(products, prices))\n",
    "\n",
    "# Print the names and prices of all products\n",
    "for product, price in product_prices.items():\n",
    "    print(f\"{product}: ${price:.2f}\")"
   ]
  },
  {
   "cell_type": "code",
   "execution_count": null,
   "id": "2584181c-fb72-48b0-83f6-bb88e6cb647a",
   "metadata": {},
   "outputs": [],
   "source": []
  }
 ],
 "metadata": {
  "kernelspec": {
   "display_name": "Python 3 (ipykernel)",
   "language": "python",
   "name": "python3"
  },
  "language_info": {
   "codemirror_mode": {
    "name": "ipython",
    "version": 3
   },
   "file_extension": ".py",
   "mimetype": "text/x-python",
   "name": "python",
   "nbconvert_exporter": "python",
   "pygments_lexer": "ipython3",
   "version": "3.12.4"
  }
 },
 "nbformat": 4,
 "nbformat_minor": 5
}
