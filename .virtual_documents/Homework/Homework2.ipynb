


# Define the lists of products and prices
products = ["Hammers", "Shovels", "Picks", "Buckets", "Rope"]
prices = [11.50, 25.00, 13.45, 2.95, 9.99]

# Use zip to create a dictionary mapping product names to prices
product_prices = dict(zip(products, prices))

# Print the names and prices of all products
for product, price in product_prices.items():
    print(f"{product}: ${price:.2f}")



