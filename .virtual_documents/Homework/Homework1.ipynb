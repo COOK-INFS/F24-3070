# Weather Forecast

# Get the current temperature in Fahrenheit from the user
temp_fahrenheit = float(input("Enter your current temperature in Fahrenheit: "))

# Initialize a variable to store the result
result = ""

# Check the temperature and set the result
if temp_fahrenheit >= 85:
    result = "hot"
elif temp_fahrenheit >= 60 and temp_fahrenheit < 85:
    result = "warm"
else:
    result = "cold"

# Print the result
print(f"It is {result} outside.")



