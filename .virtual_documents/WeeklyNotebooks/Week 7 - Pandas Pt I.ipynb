import pandas as pd








dataSeries = ['F350', 'Jeep', 'Ram', 'Motorcycle']

mySeries = pd.Series(dataSeries)

print(mySeries)








mydataFrame = [('F350', 2), ('Jeep', 10), ('Ram', 25), ('Motorcycle', 11)]

mydf = pd.DataFrame(mydataFrame)

mydf








# Accessing a file that is local
df = pd.read_csv('dataFiles/titanic.csv')

# Accessing the file from a remote link
df = pd.read_csv('http://128.198.162.191/pydev/dataFiles/TITANIC/titanic.csv')



df.info()


df.dtypes


df.describe()


df.head(10)


df['Name']


df[['Name', 'Age']]











df.loc[1]


df.loc[0:2]


# Select not only indexes but specific columns
df.loc[0:2, ['Name', 'Age']]


# Find records that meet a specific criteria
df.loc[df['Age']>30]








df.head()


df.iloc[0:4, 2:4]





df_sub1 = df[['Name', 'Sex', 'Age', 'Survived']]

df_sub1.head()


# View the "shape" of the data

df_sub1.shape


# Query the data for specific records
df_sub1.query('Survived == True')





df.info()


df['Age'].isna()





df_noNull = df.loc[~df['Age'].isna()]

df_noNull['Age'].isna()


df_noNull.dtypes


# Casting to a different data type
df_noNull['Age'].astype('int')


df_noNull.dtypes


df_noNull = df.loc[~df['Age'].isna()].copy()

df_noNull['Age'] = df_noNull['Age'].astype('int')

df_noNull.dtypes





df.head()





df['SurvivalOdds'] = df['Survived']/df['Fare']

df.head()





df.to_csv('dataFiles/Odds.csv')





survival_counts = df['Survived'].value_counts()

survival_counts


# Replace survived with a String
df['Survived'] = df['Survived'].map({0: 'No', 1: 'Yes'})


df.head()


df['Survived'] = df['Survived'].map({'No': 0, 'Yes': 1})


# Create a ratio of surviving passengers
survival_prop = df['Survived'].mean()

survival_prop


# Look at the number of passengers in each passenger class
class_counts = df['Pclass'].value_counts().sort_index()

class_counts


# Calculate the average amount paid by passenger class
df.groupby('Pclass')['Fare'].mean()


# Average age of passengers who survived
df.groupby('Survived')['Age'].mean()


# Odds of survival by passenger class

# Step 1 and 2: Group by 'Pclass' and get the count of survivors.
class_survival_counts = df.groupby('Pclass')['Survived'].value_counts().unstack()

# Calculate the odds of survival for each class
# Odds = Numbers of Survivor (1) / Number of non-survivors (0)
odds_of_survival = class_survival_counts[1] / class_survival_counts[0]

# Display the results
odds_of_survival


# Percentage of passengers that survived by class

# Calculate the percentage of passengers who survived by passenger class
survival_rates = df.groupby('Pclass')['Survived'].mean()*100

survival_rates
