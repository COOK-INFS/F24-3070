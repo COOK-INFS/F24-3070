import pandas as pd








dataSeries = ['F350', 'Jeep', 'Ram', 'Motorcycle']

mySeries = pd.Series(dataSeries)

print(mySeries)








mydataFrame = [('F350', 2), ('Jeep', 10), ('Ram', 25), ('Motorcycle', 11)]

mydf = pd.DataFrame(mydataFrame)

mydf








# Accessing a file that is local
df = pd.read_csv('../dataFiles/titanic.csv')


# Accessing the file from a remote link
df = pd.read_csv('http://128.198.162.191/pydev/dataFiles/TITANIC/titanic.csv')



df.info()


df.dtypes


df.describe()


df.head(10)


df['Name']


df[['Name', 'Age']]





















