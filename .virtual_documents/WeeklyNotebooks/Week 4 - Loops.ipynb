


x = 1

while x < 11:
    print(x)
    x += 1





x = 1
while x < 11:
    print(x)
    if x == 5:
        break
    x += 1





x = 1
while x < 11:
    x += 1
    if x == 5:
        continue
    print(x)





hoursWorked = input("Enter the number of hours worked: ")

while hoursWorked == "":
    print("You did not enter your hours.")
    hoursWorked = input("Please enter your hours: ")
else:
    print(f"You worked {hoursWorked} hours this week.")






for index in range(1, 6): # Remember that 6 is a range and non-inclusive.
    print(index * index)


for i in range (1, 6):
    print( i * i)


for i in range(1, 11):
    print(i)
print("Happy Birthday!")


# Reverse the loop
for i in reversed(range(1, 11)):
    print(i)
print("Kaboom!")


# Count by specific intervals
for i in range(1, 11, 2):
    print(i)
print("yes.")





numbers = [11, 24, 3, 4, 5, 66, 7, 8, 9, 10]

for number in numbers:
    if number == 5:
        print("Number 5 found, stopping the loop.")
        break
    print(number)


# Example of the continue reserved word

for i in range(1, 21):
    if i == 13:
        continue
    else:
        print(i)





matrix = [[1, 2, 3], [4, 5, 6], [7, 8, 9]]

for row in matrix:
    for element in row:
        print(element)





vehicles = ['F350', 'Jeep', 'Ram', 'Motorcycle']

print(vehicles[1])


print(vehicles)


for transportation in vehicles:
    print(transportation)





tuition = 8000.0

for index in range(1, 6):
    tuition *= 1.03
    if index == 1:
        print(f"In 1 year, the tuition will be ${tuition:.2f}.")
    else:
        print(f"In {index} years, the tuition will be ${tuition:.2f}.")



