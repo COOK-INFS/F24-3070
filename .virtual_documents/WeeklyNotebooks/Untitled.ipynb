


cars = ['Jeep', 'F350', 'Ram', 11]
print(cars)


# Retrieve a specific List element

print(cars[1])


# Select a range within my list

print(cars[0:3])


# Adding values to a list

cars[1] = 'Motorcycle'
print(cars)





cars = ['Jeep', 'F350', 'Ram', 11]

lookingFor = 'jeep'

if lookingFor in cars:
    print(f"{lookingFor} is in the list {cars}") # "f" represents a formatted String.
else:
    print(f"I did not find {lookingFor}.")


lookingFor = input("What car are you looking for?")

# Search and return the Index location
if lookingFor in cars:
    index_location = cars.index(lookingFor)
    print(f"{lookingFor} is in the list at index {index_location}")
else:
    print(f"I did not find {lookingFor} in the list")


# Process to ignore case sensitivity
cars = ['Jeep', 'F350', 'Ram']
lookingFor = input("What car are you looking for?")

# Convert the input and list items to lower case.
lowerCars = [car.lower() for car in cars]
lower_lookingFor = lookingFor.lower()
if lower_lookingFor in lowerCars:
    index_location = lowerCars.index(lower_lookingFor)
    print(f"{lookingFor} is in the list at index {index_location}")
else:
    print(f"I did not find {lookingFor} in the list")

print(cars)
print(lowerCars)


# Return the length of a list
s = [1,2,3,4,5]
cars = ['Jeep', 'F350', 'Ram', [1,2,3,4,5]]

print(len(cars))
print (cars[3][2])


# If a list is all numeric values we can use methods to sum those values

print(sum(s))





cars = ['Jeep', 'F350', 'Ram']
cars.append('Motorcycle')

print(cars)


# Combining information in two lists into one list
list1 = [1,2,3]
list2 = [4,5,6]

list1.extend(list2)
print(list1)


# Insert values at a specific index
cars = ['Jeep', 'F350', 'Ram']
cars.insert(1, 'Motorcycle')
print(cars)


# Sort a list
cars.sort()
print(cars)


# Reverse the sort
cars.reverse()
print(cars)








matrix = [
    ['Buell', 'GS650', 'K1200GT'],
    ['S10', 'Ram', 'F350'],
    ['Rubicon', 'CJ5']
]

print(matrix)


motorcycles = ['Buell', 'GS650', 'K1200GT']
trucks = ['S10', 'Ram', 'F350']
jeeps = ['Rubicon', 'CJ5']

vehicles = [motorcycles, trucks, jeeps]

print(vehicles)


# Accessing specific elements within a 2D list

print(vehicles[0][0])








cube = [
    [
        [1,2,3],
        [4,5,6]
    ],
    [
        [7,8,9],
        [10,11,12]
    ]
]

print(cube)




# Accessing elements with a 3D list
element = cube[0][1][2]
print(element)








myTuple = (1, 'Bob', 3.14)

print(myTuple[1])





print(myTuple)

# Try changing the values in the Tuple
myTuple[1] = 'Fred'
print(myTuple)


# Workaround to change Tuple values

myList = list(myTuple)
myList[1] = 'Fred'
myTuple = tuple(myList)
print(myTuple)








mySet = {1,2,3,4}
print(mySet)


mySet.add(5)
print(mySet)


mySet.remove(3)
print(mySet)





set1 = {1,2,3}
set2 = {4,5,6}

union = set1.union(set2)

print(union)


set1 = {1,2,3}
set2 = {1,2,4,5,6}
union = set1.union(set2)

print(union)


# Intersection of two sets.
set1 = {1,2,3}
set2 = {1,2,4,5,6}

union = set1.intersection(set2)

print(union)



# Difference in two sets
set1 = {1,2,3}
set2 = {1,2,4,5,6}

union = set1.difference(set2)

print(union)


# Traverse items within Sets
set1 = {1,2,3}
set2 = {1,2,4,5,6}

for item in set2:
    print(item)



# Only look for a specific element
if 4 in set2:
    print("Found it!")
else:
    print("Did not find it!")








jeep = {
    "brand": "Jeep",
    "model": "Rubicon",
    "year": 2014,
    "year": 1976 # This value would overwrite the previous KVP (Key-Value-Pair)
}

print(jeep)





config = {
    'screen_resolution': (1920, 1080),
    'color_scheme': 'dark',
    'file_paths': {
        'data_file': '/path/to/data.txt',
        'log_file': '/path/to/log.txt'
    }
}

# Accessing configuration items

print("Screen resolution:", config['screen_resolution'])


# Adding values to Dictionary

config['color_scheme'] = 'light'

# Add a element
config['font_size'] = 16

print(config)


# Remove elements from a Dictionary

del config['file_paths']['data_file']
print(config)





# Loop through the keys in our dictionary
for key in config:
    print(key)


for value in config.values():
    print(value)


for key, value in config.items():
    print(f"{key}: {value}")


# Typical search through a Dictionary
if 'light' in config.values():
    print("Found it!")
else:
    print("Not found")








keys = ['name', 'age', 'city']
value = ['John Doe', 30, 'New York']

# To combine lists into a Dictionary
person = dict(zip(keys, value)) # dict is a Python function to create a dictionary.

print(person)








cars = ['Jeep', 'F350', 'Ram']

for vehicle in cars:
    print(vehicle)


# Accomplish the same search with comprehension
[print(vehicles) for vehicles in cars]



