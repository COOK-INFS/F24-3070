


userName = input("What is your name?")
userAge = int(input("What year were you born?")) # Must cast to an INT as all input comes in as strings.

age = 2024 - userAge

print("Hello " + userName)
print("You are " +str(age)+ " years old.") # Casting to a string as it was an INT





userName = input("What is your name?")
userAge = int(input("What year were you born?")) # Must cast to an INT as all input comes in as strings.

age = 2024 - userAge

print("Hello " + userName)
print("You are " +str(age)+ " years old.") # Casting to a string as it was an INT

# IF statement example
if age >= 21: # This is the expression I want tested for TRUE.
    print("Welcome to the bar, enjoy your cold snack.")

print("Hello Bob")
print("No fun for you.")





userName = input("What is your name?")
userAge = int(input("What year were you born?")) # Must cast to an INT as all input comes in as strings.

age = 2024 - userAge

print("Hello " + userName)
print("You are " +str(age)+ " years old.") # Casting to a string as it was an INT

# Example of Two-Way IF
if age >= 21:
    print("Welcome, enjoy your cold snack.")
else:
    print("Sorry, no cold snack for you!")





userName = input("What is your name?")
userAge = int(input("What year were you born?")) # Must cast to an INT as all input comes in as strings.

age = 2024 - userAge

print("Hello " + userName)
print("You are " +str(age)+ " years old.") # Casting to a string as it was an INT

# Ternary expression example
canEnter = "You can enter the bar" if age >= 21 else "You cannot enter the bar"
print(canEnter)





userName = input("What is your name?")
userAge = int(input("What year were you born?")) # Must cast to an INT as all input comes in as strings.

age = 2024 - userAge

print("Hello " + userName)
print("You are " +str(age)+ " years old.") # Casting to a string as it was an INT

# Nested IF example
if age >= 18:
    if age < 25:
        print("You can enlist in the service.")
    else:
        print("You are too old to enlist.")
else:
    print("You are not eligible to enlist.")
        





userName = input("What is your name?")
userAge = int(input("What year were you born?")) # Must cast to an INT as all input comes in as strings.

age = 2024 - userAge

print("Hello " + userName)
print("You are " +str(age)+ " years old.") # Casting to a string as it was an INT

# ELIF example
if age < 15:
    print("You are too young to drive.")
elif age >= 15 and age <= 16:
    print("You are eligible for permit")
elif age >16:
    print("You are eligible for a drivers license.")
#elif age > 25 and age <= 60:
   # print("You may be eligible for insurance discounts.")
else:
    print("Finished")





dayToView = int(input("What day number (0 to 6) would you like to show?"))

day = dayToView
day_of_week = ""

if day == 0:
    day_of_week = "Sunday"
elif day == 1:
    day_of_week = "Monday"
elif day == 2:
    day_of_week = "Tuesday"
elif day == 3:
    day_of_week = "Wednesday"
elif day == 4:
    day_of_week = "Thursday"
elif day == 5:
    day_of_week = "Friday"
elif day == 6:
    day_of_week = "Saturday"
else:
    day_of_week = "Invalid Day"

print(day_of_week)





dayToView = int(input("What day number (0 to 6) would you like to show?"))

day = dayToView
day_of_week = ""

case = {
    0: "Sunday",
    1: "Monday",
    2: "Tuesday",
    3: "Wednesday",
    4: "Thursday",
    5: "Friday",
    6: "Saturday"
}

day_of_week = case.get(day, "Invalid day")
print(day_of_week)
    





# Initialize an account balance
balance = 1000

while True:
    print("Welcome to the ATM simulator")
    print("1. Check Balance")
    print("2. Withdraw")
    print("3. Deposit")
    print("4. Exit")

    choice = int(input("Enter your choice: "))
    if choice ==1:
        print("Your current balance is $" + str(balance))
    elif choice == 2:
        amount = int(input("Enter the amount to withdraw: "))
        if amount > balance:
            print("Insufficient funds!")
        elif amount <= 0:
            print("Invalid amount")
        else:
            balance -= amount
            print("$" + str(amount) + " withdrawn successfully.")
            print("Your current balance is $" + str(balance))
    elif choice == 3:
        amount = int(input("Enter the amount to deposit: "))
        if amount <= 0:
            print("Invalid amount")
        else:
            balance += amount
            print("$" + str(amount) + " deposited successfully.")
            print("Your current balance is $" + str(balance))
    elif choice == 4:
        print ("Thank you for using the ATM simulator. Good bye!")
        break
    else:
        print("Invalid choice. Please try again.")



